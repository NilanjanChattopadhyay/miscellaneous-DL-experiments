{
  "nbformat": 4,
  "nbformat_minor": 0,
  "metadata": {
    "colab": {
      "name": "Segmentation-UNet-1",
      "provenance": [],
      "collapsed_sections": [],
      "authorship_tag": "ABX9TyPivnayeS0dzC9ljNhJhxQ2",
      "include_colab_link": true
    },
    "kernelspec": {
      "name": "python3",
      "display_name": "Python 3"
    },
    "accelerator": "GPU"
  },
  "cells": [
    {
      "cell_type": "markdown",
      "metadata": {
        "id": "view-in-github",
        "colab_type": "text"
      },
      "source": [
        "<a href=\"https://colab.research.google.com/github/NilanjanChattopadhyay/miscellaneous-DL-experiments/blob/master/Notebooks/Image-Segmentation-UNet-1.ipynb\" target=\"_parent\"><img src=\"https://colab.research.google.com/assets/colab-badge.svg\" alt=\"Open In Colab\"/></a>"
      ]
    },
    {
      "cell_type": "code",
      "metadata": {
        "id": "SISA2vM42mY3",
        "outputId": "5383a846-52e4-447d-a129-96a55d560883",
        "colab": {
          "base_uri": "https://localhost:8080/",
          "height": 353
        }
      },
      "source": [
        "!nvidia-smi"
      ],
      "execution_count": null,
      "outputs": [
        {
          "output_type": "stream",
          "text": [
            "Mon Oct 19 01:16:55 2020       \n",
            "+-----------------------------------------------------------------------------+\n",
            "| NVIDIA-SMI 455.23.05    Driver Version: 418.67       CUDA Version: 10.1     |\n",
            "|-------------------------------+----------------------+----------------------+\n",
            "| GPU  Name        Persistence-M| Bus-Id        Disp.A | Volatile Uncorr. ECC |\n",
            "| Fan  Temp  Perf  Pwr:Usage/Cap|         Memory-Usage | GPU-Util  Compute M. |\n",
            "|                               |                      |               MIG M. |\n",
            "|===============================+======================+======================|\n",
            "|   0  Tesla V100-SXM2...  Off  | 00000000:00:04.0 Off |                    0 |\n",
            "| N/A   35C    P0    23W / 300W |      0MiB / 16130MiB |      0%      Default |\n",
            "|                               |                      |                 ERR! |\n",
            "+-------------------------------+----------------------+----------------------+\n",
            "                                                                               \n",
            "+-----------------------------------------------------------------------------+\n",
            "| Processes:                                                                  |\n",
            "|  GPU   GI   CI        PID   Type   Process name                  GPU Memory |\n",
            "|        ID   ID                                                   Usage      |\n",
            "|=============================================================================|\n",
            "|  No running processes found                                                 |\n",
            "+-----------------------------------------------------------------------------+\n"
          ],
          "name": "stdout"
        }
      ]
    },
    {
      "cell_type": "code",
      "metadata": {
        "id": "zeJDPSf62U-w",
        "outputId": "cc7430f5-6992-42dc-dbe8-558f1ee3d2f8",
        "colab": {
          "base_uri": "https://localhost:8080/",
          "height": 34
        }
      },
      "source": [
        "from google.colab import drive\n",
        "drive.mount('/content/gdrive', force_remount=True)"
      ],
      "execution_count": null,
      "outputs": [
        {
          "output_type": "stream",
          "text": [
            "Mounted at /content/gdrive\n"
          ],
          "name": "stdout"
        }
      ]
    },
    {
      "cell_type": "code",
      "metadata": {
        "id": "mVtJr_bY24SL"
      },
      "source": [
        "import numpy as np\n",
        "import pandas as pd"
      ],
      "execution_count": null,
      "outputs": []
    },
    {
      "cell_type": "code",
      "metadata": {
        "id": "q_f_T5Z33GHY",
        "outputId": "0ecfb353-153b-428e-f43d-26afb3be3b61",
        "colab": {
          "base_uri": "https://localhost:8080/",
          "height": 50
        }
      },
      "source": [
        "import os\n",
        "os.chdir('/content/gdrive/My Drive/competitions/AIRA')\n",
        "os.getcwd(), os.listdir()"
      ],
      "execution_count": null,
      "outputs": [
        {
          "output_type": "execute_result",
          "data": {
            "text/plain": [
              "('/content/gdrive/My Drive/competitions/AIRA',\n",
              " ['Images', 'models', 'Predictions', 'Data_1'])"
            ]
          },
          "metadata": {
            "tags": []
          },
          "execution_count": 4
        }
      ]
    },
    {
      "cell_type": "code",
      "metadata": {
        "id": "eTzhoUpX6Yi7",
        "outputId": "81dcd94a-5125-4cce-9223-567d6b9d92ca",
        "colab": {
          "base_uri": "https://localhost:8080/",
          "height": 218
        }
      },
      "source": [
        "import glob\n",
        "Image_List = glob.glob('/content/gdrive/My Drive/competitions/AIRA/Images/*.jpg')\n",
        "Annotation_List = glob.glob('/content/gdrive/My Drive/competitions/AIRA/Images/*.png')\n",
        "Image_List, Annotation_List"
      ],
      "execution_count": null,
      "outputs": [
        {
          "output_type": "execute_result",
          "data": {
            "text/plain": [
              "(['/content/gdrive/My Drive/competitions/AIRA/Images/1.jpg',\n",
              "  '/content/gdrive/My Drive/competitions/AIRA/Images/2.jpg',\n",
              "  '/content/gdrive/My Drive/competitions/AIRA/Images/3.jpg',\n",
              "  '/content/gdrive/My Drive/competitions/AIRA/Images/4.jpg',\n",
              "  '/content/gdrive/My Drive/competitions/AIRA/Images/5.jpg',\n",
              "  '/content/gdrive/My Drive/competitions/AIRA/Images/6.jpg'],\n",
              " ['/content/gdrive/My Drive/competitions/AIRA/Images/1_label.png',\n",
              "  '/content/gdrive/My Drive/competitions/AIRA/Images/2_label.png',\n",
              "  '/content/gdrive/My Drive/competitions/AIRA/Images/3_label.png',\n",
              "  '/content/gdrive/My Drive/competitions/AIRA/Images/4_label.png',\n",
              "  '/content/gdrive/My Drive/competitions/AIRA/Images/5_label.png',\n",
              "  '/content/gdrive/My Drive/competitions/AIRA/Images/6_label.png'])"
            ]
          },
          "metadata": {
            "tags": []
          },
          "execution_count": 5
        }
      ]
    },
    {
      "cell_type": "code",
      "metadata": {
        "id": "1Dzuz49W6YlM"
      },
      "source": [
        "import cv2\n",
        "import matplotlib.pyplot as plt"
      ],
      "execution_count": null,
      "outputs": []
    },
    {
      "cell_type": "code",
      "metadata": {
        "id": "ZrOGeQgS6Yf8",
        "outputId": "fc541ebf-301d-466f-f3f2-cc4ff9999a15",
        "colab": {
          "base_uri": "https://localhost:8080/",
          "height": 226
        }
      },
      "source": [
        "Image_1 = cv2.imread('/content/gdrive/My Drive/competitions/AIRA/Images/1.jpg')\n",
        "Image_1 = cv2.cvtColor(Image_1, cv2.COLOR_BGR2RGB)\n",
        "plt.imshow(Image_1)"
      ],
      "execution_count": null,
      "outputs": [
        {
          "output_type": "execute_result",
          "data": {
            "text/plain": [
              "<matplotlib.image.AxesImage at 0x7f65f2bb06d8>"
            ]
          },
          "metadata": {
            "tags": []
          },
          "execution_count": 7
        },
        {
          "output_type": "display_data",
          "data": {
            "image/png": "[encoded data removed]",
            "text/plain": [
              "<Figure size 432x288 with 1 Axes>"
            ]
          },
          "metadata": {
            "tags": [],
            "needs_background": "light"
          }
        }
      ]
    },
    {
      "cell_type": "code",
      "metadata": {
        "id": "EBt5hONq6_0e",
        "outputId": "32662c5e-8605-4c92-88dd-125f68e43781",
        "colab": {
          "base_uri": "https://localhost:8080/",
          "height": 226
        }
      },
      "source": [
        "Annotation_1 = cv2.imread('/content/gdrive/My Drive/competitions/AIRA/Images/1_label.png')\n",
        "Annotation_1 = cv2.cvtColor(Annotation_1, cv2.COLOR_BGR2RGB)\n",
        "plt.imshow(Annotation_1)"
      ],
      "execution_count": null,
      "outputs": [
        {
          "output_type": "execute_result",
          "data": {
            "text/plain": [
              "<matplotlib.image.AxesImage at 0x7f65f2710128>"
            ]
          },
          "metadata": {
            "tags": []
          },
          "execution_count": 8
        },
        {
          "output_type": "display_data",
          "data": {
            "image/png": "[encoded data removed]",
            "text/plain": [
              "<Figure size 432x288 with 1 Axes>"
            ]
          },
          "metadata": {
            "tags": [],
            "needs_background": "light"
          }
        }
      ]
    },
    {
      "cell_type": "code",
      "metadata": {
        "id": "FolkYCLyH27u",
        "outputId": "1a899ded-e32a-4618-f1f4-d193e330d271",
        "colab": {
          "base_uri": "https://localhost:8080/",
          "height": 67
        }
      },
      "source": [
        "Annotation_1 = cv2.imread('/content/gdrive/My Drive/competitions/AIRA/Images/1_label.png')\n",
        "np.unique(Annotation_1[:,:,0]), np.unique(Annotation_1[:,:,1]), np.unique(Annotation_1[:,:,2])"
      ],
      "execution_count": null,
      "outputs": [
        {
          "output_type": "execute_result",
          "data": {
            "text/plain": [
              "(array([ 28,  39, 110, 163], dtype=uint8),\n",
              " array([ 30,  92, 190, 212], dtype=uint8),\n",
              " array([ 24, 101, 224, 234], dtype=uint8))"
            ]
          },
          "metadata": {
            "tags": []
          },
          "execution_count": 9
        }
      ]
    },
    {
      "cell_type": "code",
      "metadata": {
        "id": "9tbv1f1Dp5C1",
        "outputId": "ad8198ae-9ec2-46ab-baf0-0c946221ca4b",
        "colab": {
          "base_uri": "https://localhost:8080/",
          "height": 84
        }
      },
      "source": [
        "np.unique(Annotation_1[0,0,:]), np.unique(Annotation_1[400,0,:]), np.unique(Annotation_1[600,0,:]), np.unique(Annotation_1[800,0,:])"
      ],
      "execution_count": null,
      "outputs": [
        {
          "output_type": "execute_result",
          "data": {
            "text/plain": [
              "(array([101, 110, 190], dtype=uint8),\n",
              " array([ 30,  39, 234], dtype=uint8),\n",
              " array([ 28, 212, 224], dtype=uint8),\n",
              " array([ 24,  92, 163], dtype=uint8))"
            ]
          },
          "metadata": {
            "tags": []
          },
          "execution_count": 10
        }
      ]
    },
    {
      "cell_type": "markdown",
      "metadata": {
        "id": "Qds1vAZr7UdE"
      },
      "source": [
        "## Divide each image into 112 images with 50% overlaps\n",
        "\n",
        "Total Images = 6*112 = 672"
      ]
    },
    {
      "cell_type": "code",
      "metadata": {
        "id": "1Wb6oBL67Q49",
        "outputId": "ddfa3335-154c-46b3-9921-90235b5ef4fe",
        "colab": {
          "base_uri": "https://localhost:8080/",
          "height": 336
        }
      },
      "source": [
        "import shutil\n",
        "shutil.rmtree('/content/gdrive/My Drive/competitions/AIRA/Data_1')\n",
        "\n",
        "os.mkdir('/content/gdrive/My Drive/competitions/AIRA/Data_1')\n",
        "os.mkdir('/content/gdrive/My Drive/competitions/AIRA/Data_1/Images')\n",
        "os.mkdir('/content/gdrive/My Drive/competitions/AIRA/Data_1/Masks')\n",
        "\n",
        "for k in range(6):\n",
        "  print('/content/gdrive/My Drive/competitions/AIRA/Images/'+str(k+1)+'.jpg')\n",
        "  Image_1 = cv2.imread('/content/gdrive/My Drive/competitions/AIRA/Images/'+str(k+1)+'.jpg')\n",
        "  Annotation_1 = cv2.imread('/content/gdrive/My Drive/competitions/AIRA/Images/'+str(k+1)+'_label.png')\n",
        "\n",
        "  Annotation_1[:,:,1] = Annotation_1[:,:,0]\n",
        "  Annotation_1[:,:,2] = Annotation_1[:,:,0]\n",
        "\n",
        "  Annotation_1[Annotation_1 == 28] = 0\n",
        "  Annotation_1[Annotation_1 == 39] = 1\n",
        "  Annotation_1[Annotation_1 == 110] = 2\n",
        "  Annotation_1[Annotation_1 == 163] = 3\n",
        "\n",
        "  print(Image_1.shape)\n",
        "  print(Annotation_1.shape)\n",
        "\n",
        "  for i in range(7):\n",
        "    for j in range(16):\n",
        "      Temp_Image = Image_1[112*i:112*(i+2), 112*j:112*(j+2)]\n",
        "      cv2.imwrite('/content/gdrive/My Drive/competitions/AIRA/Data_1/Images/'+str(k+1)+'_'+str(i)+'_'+str(j)+'.png', Temp_Image)\n",
        "      _ = cv2.imread('/content/gdrive/My Drive/competitions/AIRA/Data_1/Images/'+str(k+1)+'_'+str(i)+'_'+str(j)+'.png')\n",
        "      assert np.sum(_ != Temp_Image) == 0\n",
        "      Temp_Annotation = Annotation_1[112*i:112*(i+2), 112*j:112*(j+2)]\n",
        "      cv2.imwrite('/content/gdrive/My Drive/competitions/AIRA/Data_1/Masks/'+str(k+1)+'_'+str(i)+'_'+str(j)+'.png', Temp_Annotation)\n",
        "      _ = cv2.imread('/content/gdrive/My Drive/competitions/AIRA/Data_1/Masks/'+str(k+1)+'_'+str(i)+'_'+str(j)+'.png')\n",
        "      assert np.sum(_ != Temp_Annotation) == 0\n",
        "\n",
        "len(os.listdir('/content/gdrive/My Drive/competitions/AIRA/Data_1/Images')), len(os.listdir('/content/gdrive/My Drive/competitions/AIRA/Data_1/Masks'))"
      ],
      "execution_count": null,
      "outputs": [
        {
          "output_type": "stream",
          "text": [
            "/content/gdrive/My Drive/competitions/AIRA/Images/1.jpg\n",
            "(896, 1906, 3)\n",
            "(896, 1906, 3)\n",
            "/content/gdrive/My Drive/competitions/AIRA/Images/2.jpg\n",
            "(896, 1906, 3)\n",
            "(896, 1906, 3)\n",
            "/content/gdrive/My Drive/competitions/AIRA/Images/3.jpg\n",
            "(896, 1906, 3)\n",
            "(896, 1906, 3)\n",
            "/content/gdrive/My Drive/competitions/AIRA/Images/4.jpg\n",
            "(896, 1906, 3)\n",
            "(896, 1906, 3)\n",
            "/content/gdrive/My Drive/competitions/AIRA/Images/5.jpg\n",
            "(896, 1906, 3)\n",
            "(896, 1906, 3)\n",
            "/content/gdrive/My Drive/competitions/AIRA/Images/6.jpg\n",
            "(896, 1906, 3)\n",
            "(896, 1906, 3)\n"
          ],
          "name": "stdout"
        },
        {
          "output_type": "execute_result",
          "data": {
            "text/plain": [
              "(672, 672)"
            ]
          },
          "metadata": {
            "tags": []
          },
          "execution_count": 11
        }
      ]
    },
    {
      "cell_type": "markdown",
      "metadata": {
        "id": "JgzKsFIbORlm"
      },
      "source": [
        "## Segmentation Approach - UNet\n",
        "\n",
        "Paper - https://arxiv.org/pdf/1505.04597.pdf\n",
        "\n",
        "<img src=\"https://pytorch.org/assets/images/unet_brain_mri.png\" alt=\"Original UNet\" width=\"75%\" align=\"center\"/>"
      ]
    },
    {
      "cell_type": "markdown",
      "metadata": {
        "id": "5Ze2Pl41OIkS"
      },
      "source": [
        "Installing the latest version of fastai\n",
        "\n",
        "Paper - https://arxiv.org/pdf/2002.04688.pdf"
      ]
    },
    {
      "cell_type": "code",
      "metadata": {
        "id": "CJLBP7x_Hhj2",
        "outputId": "4b44d64e-7381-49da-bdc5-333e1a574c98",
        "colab": {
          "base_uri": "https://localhost:8080/",
          "height": 726
        }
      },
      "source": [
        "!pip install --upgrade fastai"
      ],
      "execution_count": null,
      "outputs": [
        {
          "output_type": "stream",
          "text": [
            "Requirement already up-to-date: fastai in /usr/local/lib/python3.6/dist-packages (2.0.16)\n",
            "Requirement already satisfied, skipping upgrade: torchvision>=0.7 in /usr/local/lib/python3.6/dist-packages (from fastai) (0.7.0+cu101)\n",
            "Requirement already satisfied, skipping upgrade: requests in /usr/local/lib/python3.6/dist-packages (from fastai) (2.23.0)\n",
            "Requirement already satisfied, skipping upgrade: pillow in /usr/local/lib/python3.6/dist-packages (from fastai) (7.0.0)\n",
            "Requirement already satisfied, skipping upgrade: scikit-learn in /usr/local/lib/python3.6/dist-packages (from fastai) (0.22.2.post1)\n",
            "Requirement already satisfied, skipping upgrade: spacy in /usr/local/lib/python3.6/dist-packages (from fastai) (2.2.4)\n",
            "Requirement already satisfied, skipping upgrade: packaging in /usr/local/lib/python3.6/dist-packages (from fastai) (20.4)\n",
            "Requirement already satisfied, skipping upgrade: pyyaml in /usr/local/lib/python3.6/dist-packages (from fastai) (3.13)\n",
            "Requirement already satisfied, skipping upgrade: pandas in /usr/local/lib/python3.6/dist-packages (from fastai) (1.1.2)\n",
            "Requirement already satisfied, skipping upgrade: matplotlib in /usr/local/lib/python3.6/dist-packages (from fastai) (3.2.2)\n",
            "Requirement already satisfied, skipping upgrade: pip in /usr/local/lib/python3.6/dist-packages (from fastai) (19.3.1)\n",
            "Requirement already satisfied, skipping upgrade: fastprogress>=0.2.4 in /usr/local/lib/python3.6/dist-packages (from fastai) (1.0.0)\n",
            "Requirement already satisfied, skipping upgrade: scipy in /usr/local/lib/python3.6/dist-packages (from fastai) (1.4.1)\n",
            "Requirement already satisfied, skipping upgrade: torch>=1.6.0 in /usr/local/lib/python3.6/dist-packages (from fastai) (1.6.0+cu101)\n",
            "Requirement already satisfied, skipping upgrade: fastcore>=1.1.0 in /usr/local/lib/python3.6/dist-packages (from fastai) (1.2.0)\n",
            "Requirement already satisfied, skipping upgrade: numpy in /usr/local/lib/python3.6/dist-packages (from torchvision>=0.7->fastai) (1.18.5)\n",
            "Requirement already satisfied, skipping upgrade: certifi>=2017.4.17 in /usr/local/lib/python3.6/dist-packages (from requests->fastai) (2020.6.20)\n",
            "Requirement already satisfied, skipping upgrade: chardet<4,>=3.0.2 in /usr/local/lib/python3.6/dist-packages (from requests->fastai) (3.0.4)\n",
            "Requirement already satisfied, skipping upgrade: idna<3,>=2.5 in /usr/local/lib/python3.6/dist-packages (from requests->fastai) (2.10)\n",
            "Requirement already satisfied, skipping upgrade: urllib3!=1.25.0,!=1.25.1,<1.26,>=1.21.1 in /usr/local/lib/python3.6/dist-packages (from requests->fastai) (1.24.3)\n",
            "Requirement already satisfied, skipping upgrade: joblib>=0.11 in /usr/local/lib/python3.6/dist-packages (from scikit-learn->fastai) (0.16.0)\n",
            "Requirement already satisfied, skipping upgrade: plac<1.2.0,>=0.9.6 in /usr/local/lib/python3.6/dist-packages (from spacy->fastai) (1.1.3)\n",
            "Requirement already satisfied, skipping upgrade: thinc==7.4.0 in /usr/local/lib/python3.6/dist-packages (from spacy->fastai) (7.4.0)\n",
            "Requirement already satisfied, skipping upgrade: catalogue<1.1.0,>=0.0.7 in /usr/local/lib/python3.6/dist-packages (from spacy->fastai) (1.0.0)\n",
            "Requirement already satisfied, skipping upgrade: srsly<1.1.0,>=1.0.2 in /usr/local/lib/python3.6/dist-packages (from spacy->fastai) (1.0.2)\n",
            "Requirement already satisfied, skipping upgrade: blis<0.5.0,>=0.4.0 in /usr/local/lib/python3.6/dist-packages (from spacy->fastai) (0.4.1)\n",
            "Requirement already satisfied, skipping upgrade: tqdm<5.0.0,>=4.38.0 in /usr/local/lib/python3.6/dist-packages (from spacy->fastai) (4.41.1)\n",
            "Requirement already satisfied, skipping upgrade: murmurhash<1.1.0,>=0.28.0 in /usr/local/lib/python3.6/dist-packages (from spacy->fastai) (1.0.2)\n",
            "Requirement already satisfied, skipping upgrade: wasabi<1.1.0,>=0.4.0 in /usr/local/lib/python3.6/dist-packages (from spacy->fastai) (0.8.0)\n",
            "Requirement already satisfied, skipping upgrade: setuptools in /usr/local/lib/python3.6/dist-packages (from spacy->fastai) (50.3.0)\n",
            "Requirement already satisfied, skipping upgrade: preshed<3.1.0,>=3.0.2 in /usr/local/lib/python3.6/dist-packages (from spacy->fastai) (3.0.2)\n",
            "Requirement already satisfied, skipping upgrade: cymem<2.1.0,>=2.0.2 in /usr/local/lib/python3.6/dist-packages (from spacy->fastai) (2.0.3)\n",
            "Requirement already satisfied, skipping upgrade: six in /usr/local/lib/python3.6/dist-packages (from packaging->fastai) (1.15.0)\n",
            "Requirement already satisfied, skipping upgrade: pyparsing>=2.0.2 in /usr/local/lib/python3.6/dist-packages (from packaging->fastai) (2.4.7)\n",
            "Requirement already satisfied, skipping upgrade: pytz>=2017.2 in /usr/local/lib/python3.6/dist-packages (from pandas->fastai) (2018.9)\n",
            "Requirement already satisfied, skipping upgrade: python-dateutil>=2.7.3 in /usr/local/lib/python3.6/dist-packages (from pandas->fastai) (2.8.1)\n",
            "Requirement already satisfied, skipping upgrade: cycler>=0.10 in /usr/local/lib/python3.6/dist-packages (from matplotlib->fastai) (0.10.0)\n",
            "Requirement already satisfied, skipping upgrade: kiwisolver>=1.0.1 in /usr/local/lib/python3.6/dist-packages (from matplotlib->fastai) (1.2.0)\n",
            "Requirement already satisfied, skipping upgrade: future in /usr/local/lib/python3.6/dist-packages (from torch>=1.6.0->fastai) (0.16.0)\n",
            "Requirement already satisfied, skipping upgrade: importlib-metadata>=0.20; python_version < \"3.8\" in /usr/local/lib/python3.6/dist-packages (from catalogue<1.1.0,>=0.0.7->spacy->fastai) (2.0.0)\n",
            "Requirement already satisfied, skipping upgrade: zipp>=0.5 in /usr/local/lib/python3.6/dist-packages (from importlib-metadata>=0.20; python_version < \"3.8\"->catalogue<1.1.0,>=0.0.7->spacy->fastai) (3.2.0)\n"
          ],
          "name": "stdout"
        }
      ]
    },
    {
      "cell_type": "code",
      "metadata": {
        "id": "paQFhwT23MQv",
        "outputId": "96535685-607c-4ebe-e433-c17821e2013a",
        "colab": {
          "base_uri": "https://localhost:8080/",
          "height": 35
        }
      },
      "source": [
        "import fastai\n",
        "from fastai.vision.all import *\n",
        "fastai.__version__"
      ],
      "execution_count": null,
      "outputs": [
        {
          "output_type": "execute_result",
          "data": {
            "application/vnd.google.colaboratory.intrinsic+json": {
              "type": "string"
            },
            "text/plain": [
              "'2.0.16'"
            ]
          },
          "metadata": {
            "tags": []
          },
          "execution_count": 13
        }
      ]
    },
    {
      "cell_type": "markdown",
      "metadata": {
        "id": "bSOfnvsYQDhC"
      },
      "source": [
        "Creating datablock for segmentation"
      ]
    },
    {
      "cell_type": "code",
      "metadata": {
        "id": "qlje-CMf-IYD"
      },
      "source": [
        "path = Path('/content/gdrive/My Drive/competitions/AIRA/Data_1')\n",
        "def get_my_x(fname:Path): return fname\n",
        "def get_my_y(fname:Path): return str(fname).replace('Images','Masks')"
      ],
      "execution_count": null,
      "outputs": []
    },
    {
      "cell_type": "markdown",
      "metadata": {
        "id": "MaFVddslR_GU"
      },
      "source": [
        "Random 80-20 split can fail as each original image can be from different slide\n",
        "\n",
        "Validation Strategy - Images from 2.jpg to 6.jpg used for training and all 112 images from 1.jpg is used for creating validation set\n"
      ]
    },
    {
      "cell_type": "code",
      "metadata": {
        "id": "vvBmupac4IT4"
      },
      "source": [
        "size = 224\n",
        "bs = 32\n",
        "\n",
        "tfms = [IntToFloatTensor(),\n",
        "        Rotate(),\n",
        "        Flip(),\n",
        "        Normalize.from_stats(*imagenet_stats)]\n",
        "\n",
        "db = DataBlock(blocks=(ImageBlock(), MaskBlock()), \n",
        "               batch_tfms=tfms,\n",
        "               item_tfms=[Resize(size, pad_mode=PadMode.Reflection)],\n",
        "               get_x=get_my_x, get_y=get_my_y, get_items=get_image_files,\n",
        "               splitter=IndexSplitter([i for i in range(112)]))\n",
        "\n",
        "dls = db.dataloaders(source=path/'Images', bs=bs)"
      ],
      "execution_count": null,
      "outputs": []
    },
    {
      "cell_type": "code",
      "metadata": {
        "id": "oNxy2bL9BwcJ",
        "outputId": "0aa1c790-6b1e-4b85-c079-859cc9ad5422",
        "colab": {
          "base_uri": "https://localhost:8080/",
          "height": 520
        }
      },
      "source": [
        "x,y = dls.one_batch()\n",
        "dls.show_batch()"
      ],
      "execution_count": null,
      "outputs": [
        {
          "output_type": "display_data",
          "data": {
            "image/png": "[encoded data removed]",
            "text/plain": [
              "<Figure size 648x648 with 9 Axes>"
            ]
          },
          "metadata": {
            "tags": [],
            "needs_background": "light"
          }
        }
      ]
    },
    {
      "cell_type": "markdown",
      "metadata": {
        "id": "P2u-KDMPQjZQ"
      },
      "source": [
        "Dice Coefficient is the most commonly used segmentation evaluation metric"
      ]
    },
    {
      "cell_type": "code",
      "metadata": {
        "id": "mapRFN_nKHBW"
      },
      "source": [
        "def binary_dice(preds, targs, eps=1e-8):\n",
        "  n = preds.shape[0]\n",
        "  preds = preds.view(n, -1)*1\n",
        "  targs = targs.view(n, -1)*1\n",
        "  intersect = (preds * targs).sum(-1).float() + eps\n",
        "  union = (preds+targs).sum(-1).float() + 2*eps \n",
        "  # usual implementations doesn't multiply with 2\n",
        "  # not multiplying with 2 can result in inflated dice score as numerator will be multiplied with 2\n",
        "  return (2. * intersect / union)\n",
        "\n",
        "def mask_dice_coeff(preds, targs, mask, agg=False):\n",
        "  pred_mask = preds.argmax(axis=1)\n",
        "  if agg:\n",
        "    return binary_dice(pred_mask==mask, targs==mask).mean()\n",
        "  else:\n",
        "    return binary_dice(pred_mask==mask, targs==mask)\n",
        "  \n",
        "def dice_coeff(preds, targs):\n",
        "  mask_0 = mask_dice_coeff(preds, targs, 0)\n",
        "  mask_1 = mask_dice_coeff(preds, targs, 1)\n",
        "  mask_2 = mask_dice_coeff(preds, targs, 2)\n",
        "  mask_3 = mask_dice_coeff(preds, targs, 3)\n",
        "  #equal weight to all masks\n",
        "  dice_coeff = 0.25*mask_0 + 0.25*mask_1 + 0.25*mask_2 + 0.25*mask_3\n",
        "  return dice_coeff.mean()"
      ],
      "execution_count": null,
      "outputs": []
    },
    {
      "cell_type": "markdown",
      "metadata": {
        "id": "ipPtkO82TVZt"
      },
      "source": [
        "Functions for getting dice coefficents for each mask"
      ]
    },
    {
      "cell_type": "code",
      "metadata": {
        "id": "AjxzeDPxaYhh"
      },
      "source": [
        "dice_0 = partial(mask_dice_coeff, mask=0, agg=True)\n",
        "dice_1 = partial(mask_dice_coeff, mask=1, agg=True)\n",
        "dice_2 = partial(mask_dice_coeff, mask=2, agg=True)\n",
        "dice_3 = partial(mask_dice_coeff, mask=3, agg=True)"
      ],
      "execution_count": null,
      "outputs": []
    },
    {
      "cell_type": "markdown",
      "metadata": {
        "id": "PuSmQ1TGTsiB"
      },
      "source": [
        "Defining UNet with ResNet34 encoder\n",
        "\n",
        "<img src=\"https://miro.medium.com/max/2363/1*eKrh8FqJL3jodebYlielNg.png\" width=\"1200\" height=\"650\" alt=\"UNET with Residual Blocks\" title=\"UNET\" align=\"center\"/>"
      ]
    },
    {
      "cell_type": "markdown",
      "metadata": {
        "id": "CWiBPLppaymt"
      },
      "source": [
        "ResNet Paper - https://arxiv.org/pdf/1512.03385.pdf"
      ]
    },
    {
      "cell_type": "code",
      "metadata": {
        "id": "4bU9s7o4_2Tu",
        "outputId": "04efab81-8411-4e63-b537-c70248857a6a",
        "colab": {
          "base_uri": "https://localhost:8080/",
          "height": 1000
        }
      },
      "source": [
        "learn = unet_learner(dls=dls, arch=fastai.vision.models.resnet34, metrics=[dice_coeff, dice_0, dice_1, dice_2, dice_3], n_out=4)\n",
        "learn.summary()"
      ],
      "execution_count": null,
      "outputs": [
        {
          "output_type": "display_data",
          "data": {
            "text/html": [
              "<table border=\"1\" class=\"dataframe\">\n",
              "  <thead>\n",
              "    <tr style=\"text-align: left;\">\n",
              "      <th>epoch</th>\n",
              "      <th>train_loss</th>\n",
              "      <th>valid_loss</th>\n",
              "      <th>dice_coeff</th>\n",
              "      <th>mask_dice_coeff</th>\n",
              "      <th>mask_dice_coeff</th>\n",
              "      <th>mask_dice_coeff</th>\n",
              "      <th>mask_dice_coeff</th>\n",
              "      <th>time</th>\n",
              "    </tr>\n",
              "  </thead>\n",
              "  <tbody>\n",
              "    <tr>\n",
              "      <td>0</td>\n",
              "      <td>None</td>\n",
              "      <td>None</td>\n",
              "      <td>None</td>\n",
              "      <td>None</td>\n",
              "      <td>None</td>\n",
              "      <td>None</td>\n",
              "      <td>00:00</td>\n",
              "    </tr>\n",
              "  </tbody>\n",
              "</table>"
            ],
            "text/plain": [
              "<IPython.core.display.HTML object>"
            ]
          },
          "metadata": {
            "tags": []
          }
        },
        {
          "output_type": "execute_result",
          "data": {
            "application/vnd.google.colaboratory.intrinsic+json": {
              "type": "string"
            },
            "text/plain": [
              "DynamicUnet (Input shape: ['32 x 3 x 224 x 224'])\n",
              "================================================================\n",
              "Layer (type)         Output Shape         Param #    Trainable \n",
              "================================================================\n",
              "Conv2d               32 x 64 x 112 x 112  9,408      False     \n",
              "________________________________________________________________\n",
              "BatchNorm2d          32 x 64 x 112 x 112  128        True      \n",
              "________________________________________________________________\n",
              "ReLU                 32 x 64 x 112 x 112  0          False     \n",
              "________________________________________________________________\n",
              "MaxPool2d            32 x 64 x 56 x 56    0          False     \n",
              "________________________________________________________________\n",
              "Conv2d               32 x 64 x 56 x 56    36,864     False     \n",
              "________________________________________________________________\n",
              "BatchNorm2d          32 x 64 x 56 x 56    128        True      \n",
              "________________________________________________________________\n",
              "ReLU                 32 x 64 x 56 x 56    0          False     \n",
              "________________________________________________________________\n",
              "Conv2d               32 x 64 x 56 x 56    36,864     False     \n",
              "________________________________________________________________\n",
              "BatchNorm2d          32 x 64 x 56 x 56    128        True      \n",
              "________________________________________________________________\n",
              "Conv2d               32 x 64 x 56 x 56    36,864     False     \n",
              "________________________________________________________________\n",
              "BatchNorm2d          32 x 64 x 56 x 56    128        True      \n",
              "________________________________________________________________\n",
              "ReLU                 32 x 64 x 56 x 56    0          False     \n",
              "________________________________________________________________\n",
              "Conv2d               32 x 64 x 56 x 56    36,864     False     \n",
              "________________________________________________________________\n",
              "BatchNorm2d          32 x 64 x 56 x 56    128        True      \n",
              "________________________________________________________________\n",
              "Conv2d               32 x 64 x 56 x 56    36,864     False     \n",
              "________________________________________________________________\n",
              "BatchNorm2d          32 x 64 x 56 x 56    128        True      \n",
              "________________________________________________________________\n",
              "ReLU                 32 x 64 x 56 x 56    0          False     \n",
              "________________________________________________________________\n",
              "Conv2d               32 x 64 x 56 x 56    36,864     False     \n",
              "________________________________________________________________\n",
              "BatchNorm2d          32 x 64 x 56 x 56    128        True      \n",
              "________________________________________________________________\n",
              "Conv2d               32 x 128 x 28 x 28   73,728     False     \n",
              "________________________________________________________________\n",
              "BatchNorm2d          32 x 128 x 28 x 28   256        True      \n",
              "________________________________________________________________\n",
              "ReLU                 32 x 128 x 28 x 28   0          False     \n",
              "________________________________________________________________\n",
              "Conv2d               32 x 128 x 28 x 28   147,456    False     \n",
              "________________________________________________________________\n",
              "BatchNorm2d          32 x 128 x 28 x 28   256        True      \n",
              "________________________________________________________________\n",
              "Conv2d               32 x 128 x 28 x 28   8,192      False     \n",
              "________________________________________________________________\n",
              "BatchNorm2d          32 x 128 x 28 x 28   256        True      \n",
              "________________________________________________________________\n",
              "Conv2d               32 x 128 x 28 x 28   147,456    False     \n",
              "________________________________________________________________\n",
              "BatchNorm2d          32 x 128 x 28 x 28   256        True      \n",
              "________________________________________________________________\n",
              "ReLU                 32 x 128 x 28 x 28   0          False     \n",
              "________________________________________________________________\n",
              "Conv2d               32 x 128 x 28 x 28   147,456    False     \n",
              "________________________________________________________________\n",
              "BatchNorm2d          32 x 128 x 28 x 28   256        True      \n",
              "________________________________________________________________\n",
              "Conv2d               32 x 128 x 28 x 28   147,456    False     \n",
              "________________________________________________________________\n",
              "BatchNorm2d          32 x 128 x 28 x 28   256        True      \n",
              "________________________________________________________________\n",
              "ReLU                 32 x 128 x 28 x 28   0          False     \n",
              "________________________________________________________________\n",
              "Conv2d               32 x 128 x 28 x 28   147,456    False     \n",
              "________________________________________________________________\n",
              "BatchNorm2d          32 x 128 x 28 x 28   256        True      \n",
              "________________________________________________________________\n",
              "Conv2d               32 x 128 x 28 x 28   147,456    False     \n",
              "________________________________________________________________\n",
              "BatchNorm2d          32 x 128 x 28 x 28   256        True      \n",
              "________________________________________________________________\n",
              "ReLU                 32 x 128 x 28 x 28   0          False     \n",
              "________________________________________________________________\n",
              "Conv2d               32 x 128 x 28 x 28   147,456    False     \n",
              "________________________________________________________________\n",
              "BatchNorm2d          32 x 128 x 28 x 28   256        True      \n",
              "________________________________________________________________\n",
              "Conv2d               32 x 256 x 14 x 14   294,912    False     \n",
              "________________________________________________________________\n",
              "BatchNorm2d          32 x 256 x 14 x 14   512        True      \n",
              "________________________________________________________________\n",
              "ReLU                 32 x 256 x 14 x 14   0          False     \n",
              "________________________________________________________________\n",
              "Conv2d               32 x 256 x 14 x 14   589,824    False     \n",
              "________________________________________________________________\n",
              "BatchNorm2d          32 x 256 x 14 x 14   512        True      \n",
              "________________________________________________________________\n",
              "Conv2d               32 x 256 x 14 x 14   32,768     False     \n",
              "________________________________________________________________\n",
              "BatchNorm2d          32 x 256 x 14 x 14   512        True      \n",
              "________________________________________________________________\n",
              "Conv2d               32 x 256 x 14 x 14   589,824    False     \n",
              "________________________________________________________________\n",
              "BatchNorm2d          32 x 256 x 14 x 14   512        True      \n",
              "________________________________________________________________\n",
              "ReLU                 32 x 256 x 14 x 14   0          False     \n",
              "________________________________________________________________\n",
              "Conv2d               32 x 256 x 14 x 14   589,824    False     \n",
              "________________________________________________________________\n",
              "BatchNorm2d          32 x 256 x 14 x 14   512        True      \n",
              "________________________________________________________________\n",
              "Conv2d               32 x 256 x 14 x 14   589,824    False     \n",
              "________________________________________________________________\n",
              "BatchNorm2d          32 x 256 x 14 x 14   512        True      \n",
              "________________________________________________________________\n",
              "ReLU                 32 x 256 x 14 x 14   0          False     \n",
              "________________________________________________________________\n",
              "Conv2d               32 x 256 x 14 x 14   589,824    False     \n",
              "________________________________________________________________\n",
              "BatchNorm2d          32 x 256 x 14 x 14   512        True      \n",
              "________________________________________________________________\n",
              "Conv2d               32 x 256 x 14 x 14   589,824    False     \n",
              "________________________________________________________________\n",
              "BatchNorm2d          32 x 256 x 14 x 14   512        True      \n",
              "________________________________________________________________\n",
              "ReLU                 32 x 256 x 14 x 14   0          False     \n",
              "________________________________________________________________\n",
              "Conv2d               32 x 256 x 14 x 14   589,824    False     \n",
              "________________________________________________________________\n",
              "BatchNorm2d          32 x 256 x 14 x 14   512        True      \n",
              "________________________________________________________________\n",
              "Conv2d               32 x 256 x 14 x 14   589,824    False     \n",
              "________________________________________________________________\n",
              "BatchNorm2d          32 x 256 x 14 x 14   512        True      \n",
              "________________________________________________________________\n",
              "ReLU                 32 x 256 x 14 x 14   0          False     \n",
              "________________________________________________________________\n",
              "Conv2d               32 x 256 x 14 x 14   589,824    False     \n",
              "________________________________________________________________\n",
              "BatchNorm2d          32 x 256 x 14 x 14   512        True      \n",
              "________________________________________________________________\n",
              "Conv2d               32 x 256 x 14 x 14   589,824    False     \n",
              "________________________________________________________________\n",
              "BatchNorm2d          32 x 256 x 14 x 14   512        True      \n",
              "________________________________________________________________\n",
              "ReLU                 32 x 256 x 14 x 14   0          False     \n",
              "________________________________________________________________\n",
              "Conv2d               32 x 256 x 14 x 14   589,824    False     \n",
              "________________________________________________________________\n",
              "BatchNorm2d          32 x 256 x 14 x 14   512        True      \n",
              "________________________________________________________________\n",
              "Conv2d               32 x 512 x 7 x 7     1,179,648  False     \n",
              "________________________________________________________________\n",
              "BatchNorm2d          32 x 512 x 7 x 7     1,024      True      \n",
              "________________________________________________________________\n",
              "ReLU                 32 x 512 x 7 x 7     0          False     \n",
              "________________________________________________________________\n",
              "Conv2d               32 x 512 x 7 x 7     2,359,296  False     \n",
              "________________________________________________________________\n",
              "BatchNorm2d          32 x 512 x 7 x 7     1,024      True      \n",
              "________________________________________________________________\n",
              "Conv2d               32 x 512 x 7 x 7     131,072    False     \n",
              "________________________________________________________________\n",
              "BatchNorm2d          32 x 512 x 7 x 7     1,024      True      \n",
              "________________________________________________________________\n",
              "Conv2d               32 x 512 x 7 x 7     2,359,296  False     \n",
              "________________________________________________________________\n",
              "BatchNorm2d          32 x 512 x 7 x 7     1,024      True      \n",
              "________________________________________________________________\n",
              "ReLU                 32 x 512 x 7 x 7     0          False     \n",
              "________________________________________________________________\n",
              "Conv2d               32 x 512 x 7 x 7     2,359,296  False     \n",
              "________________________________________________________________\n",
              "BatchNorm2d          32 x 512 x 7 x 7     1,024      True      \n",
              "________________________________________________________________\n",
              "Conv2d               32 x 512 x 7 x 7     2,359,296  False     \n",
              "________________________________________________________________\n",
              "BatchNorm2d          32 x 512 x 7 x 7     1,024      True      \n",
              "________________________________________________________________\n",
              "ReLU                 32 x 512 x 7 x 7     0          False     \n",
              "________________________________________________________________\n",
              "Conv2d               32 x 512 x 7 x 7     2,359,296  False     \n",
              "________________________________________________________________\n",
              "BatchNorm2d          32 x 512 x 7 x 7     1,024      True      \n",
              "________________________________________________________________\n",
              "BatchNorm2d          32 x 512 x 7 x 7     1,024      True      \n",
              "________________________________________________________________\n",
              "ReLU                 32 x 512 x 7 x 7     0          False     \n",
              "________________________________________________________________\n",
              "Conv2d               32 x 1024 x 7 x 7    4,719,616  True      \n",
              "________________________________________________________________\n",
              "ReLU                 32 x 1024 x 7 x 7    0          False     \n",
              "________________________________________________________________\n",
              "Conv2d               32 x 512 x 7 x 7     4,719,104  True      \n",
              "________________________________________________________________\n",
              "ReLU                 32 x 512 x 7 x 7     0          False     \n",
              "________________________________________________________________\n",
              "Conv2d               32 x 1024 x 7 x 7    525,312    True      \n",
              "________________________________________________________________\n",
              "ReLU                 32 x 1024 x 7 x 7    0          False     \n",
              "________________________________________________________________\n",
              "PixelShuffle         32 x 256 x 14 x 14   0          False     \n",
              "________________________________________________________________\n",
              "BatchNorm2d          32 x 256 x 14 x 14   512        True      \n",
              "________________________________________________________________\n",
              "Conv2d               32 x 512 x 14 x 14   2,359,808  True      \n",
              "________________________________________________________________\n",
              "ReLU                 32 x 512 x 14 x 14   0          False     \n",
              "________________________________________________________________\n",
              "Conv2d               32 x 512 x 14 x 14   2,359,808  True      \n",
              "________________________________________________________________\n",
              "ReLU                 32 x 512 x 14 x 14   0          False     \n",
              "________________________________________________________________\n",
              "ReLU                 32 x 512 x 14 x 14   0          False     \n",
              "________________________________________________________________\n",
              "Conv2d               32 x 1024 x 14 x 14  525,312    True      \n",
              "________________________________________________________________\n",
              "ReLU                 32 x 1024 x 14 x 14  0          False     \n",
              "________________________________________________________________\n",
              "PixelShuffle         32 x 256 x 28 x 28   0          False     \n",
              "________________________________________________________________\n",
              "BatchNorm2d          32 x 128 x 28 x 28   256        True      \n",
              "________________________________________________________________\n",
              "Conv2d               32 x 384 x 28 x 28   1,327,488  True      \n",
              "________________________________________________________________\n",
              "ReLU                 32 x 384 x 28 x 28   0          False     \n",
              "________________________________________________________________\n",
              "Conv2d               32 x 384 x 28 x 28   1,327,488  True      \n",
              "________________________________________________________________\n",
              "ReLU                 32 x 384 x 28 x 28   0          False     \n",
              "________________________________________________________________\n",
              "ReLU                 32 x 384 x 28 x 28   0          False     \n",
              "________________________________________________________________\n",
              "Conv2d               32 x 768 x 28 x 28   295,680    True      \n",
              "________________________________________________________________\n",
              "ReLU                 32 x 768 x 28 x 28   0          False     \n",
              "________________________________________________________________\n",
              "PixelShuffle         32 x 192 x 56 x 56   0          False     \n",
              "________________________________________________________________\n",
              "BatchNorm2d          32 x 64 x 56 x 56    128        True      \n",
              "________________________________________________________________\n",
              "Conv2d               32 x 256 x 56 x 56   590,080    True      \n",
              "________________________________________________________________\n",
              "ReLU                 32 x 256 x 56 x 56   0          False     \n",
              "________________________________________________________________\n",
              "Conv2d               32 x 256 x 56 x 56   590,080    True      \n",
              "________________________________________________________________\n",
              "ReLU                 32 x 256 x 56 x 56   0          False     \n",
              "________________________________________________________________\n",
              "ReLU                 32 x 256 x 56 x 56   0          False     \n",
              "________________________________________________________________\n",
              "Conv2d               32 x 512 x 56 x 56   131,584    True      \n",
              "________________________________________________________________\n",
              "ReLU                 32 x 512 x 56 x 56   0          False     \n",
              "________________________________________________________________\n",
              "PixelShuffle         32 x 128 x 112 x 11  0          False     \n",
              "________________________________________________________________\n",
              "BatchNorm2d          32 x 64 x 112 x 112  128        True      \n",
              "________________________________________________________________\n",
              "Conv2d               32 x 96 x 112 x 112  165,984    True      \n",
              "________________________________________________________________\n",
              "ReLU                 32 x 96 x 112 x 112  0          False     \n",
              "________________________________________________________________\n",
              "Conv2d               32 x 96 x 112 x 112  83,040     True      \n",
              "________________________________________________________________\n",
              "ReLU                 32 x 96 x 112 x 112  0          False     \n",
              "________________________________________________________________\n",
              "ReLU                 32 x 192 x 112 x 11  0          False     \n",
              "________________________________________________________________\n",
              "Conv2d               32 x 384 x 112 x 11  37,248     True      \n",
              "________________________________________________________________\n",
              "ReLU                 32 x 384 x 112 x 11  0          False     \n",
              "________________________________________________________________\n",
              "PixelShuffle         32 x 96 x 224 x 224  0          False     \n",
              "________________________________________________________________\n",
              "ResizeToOrig         32 x 96 x 224 x 224  0          False     \n",
              "________________________________________________________________\n",
              "MergeLayer           32 x 99 x 224 x 224  0          False     \n",
              "________________________________________________________________\n",
              "Conv2d               32 x 99 x 224 x 224  88,308     True      \n",
              "________________________________________________________________\n",
              "ReLU                 32 x 99 x 224 x 224  0          False     \n",
              "________________________________________________________________\n",
              "Conv2d               32 x 99 x 224 x 224  88,308     True      \n",
              "________________________________________________________________\n",
              "Sequential           32 x 99 x 224 x 224  0          False     \n",
              "________________________________________________________________\n",
              "ReLU                 32 x 99 x 224 x 224  0          False     \n",
              "________________________________________________________________\n",
              "Conv2d               32 x 4 x 224 x 224   400        True      \n",
              "________________________________________________________________\n",
              "\n",
              "Total params: 41,221,368\n",
              "Total trainable params: 19,953,720\n",
              "Total non-trainable params: 21,267,648\n",
              "\n",
              "Optimizer used: <function Adam at 0x7f65907d07b8>\n",
              "Loss function: FlattenedLoss of CrossEntropyLoss()\n",
              "\n",
              "Model frozen up to parameter group #2\n",
              "\n",
              "Callbacks:\n",
              "  - TrainEvalCallback\n",
              "  - Recorder\n",
              "  - ProgressCallback"
            ]
          },
          "metadata": {
            "tags": []
          },
          "execution_count": 19
        }
      ]
    },
    {
      "cell_type": "code",
      "metadata": {
        "id": "TNi2ZxQM_2cQ",
        "outputId": "2ca93ef1-7fd1-4d4d-eae7-bebbd7d96c5d",
        "colab": {
          "base_uri": "https://localhost:8080/",
          "height": 300
        }
      },
      "source": [
        "learn.lr_find()"
      ],
      "execution_count": null,
      "outputs": [
        {
          "output_type": "display_data",
          "data": {
            "text/html": [
              ""
            ],
            "text/plain": [
              "<IPython.core.display.HTML object>"
            ]
          },
          "metadata": {
            "tags": []
          }
        },
        {
          "output_type": "execute_result",
          "data": {
            "text/plain": [
              "SuggestedLRs(lr_min=5.754399462603033e-05, lr_steep=0.0003981071640737355)"
            ]
          },
          "metadata": {
            "tags": []
          },
          "execution_count": 20
        },
        {
          "output_type": "display_data",
          "data": {
            "image/png": "[encoded data removed]",
            "text/plain": [
              "<Figure size 432x288 with 1 Axes>"
            ]
          },
          "metadata": {
            "tags": [],
            "needs_background": "light"
          }
        }
      ]
    },
    {
      "cell_type": "markdown",
      "metadata": {
        "id": "4M3pkk13UKS6"
      },
      "source": [
        "Training model for 25 epochs"
      ]
    },
    {
      "cell_type": "code",
      "metadata": {
        "id": "87Jr78gLCw75",
        "outputId": "340d56ef-17c8-483a-9035-f66ed95892b0",
        "colab": {
          "base_uri": "https://localhost:8080/",
          "height": 1000
        }
      },
      "source": [
        "torch.cuda.empty_cache()\n",
        "learn.fit_one_cycle(25, 1e-3, cbs=[SaveModelCallback(monitor='dice_coeff', fname=\"UNET-Resnet34-1\")])"
      ],
      "execution_count": null,
      "outputs": [
        {
          "output_type": "display_data",
          "data": {
            "text/html": [
              "<table border=\"1\" class=\"dataframe\">\n",
              "  <thead>\n",
              "    <tr style=\"text-align: left;\">\n",
              "      <th>epoch</th>\n",
              "      <th>train_loss</th>\n",
              "      <th>valid_loss</th>\n",
              "      <th>dice_coeff</th>\n",
              "      <th>mask_dice_coeff</th>\n",
              "      <th>mask_dice_coeff</th>\n",
              "      <th>mask_dice_coeff</th>\n",
              "      <th>mask_dice_coeff</th>\n",
              "      <th>time</th>\n",
              "    </tr>\n",
              "  </thead>\n",
              "  <tbody>\n",
              "    <tr>\n",
              "      <td>0</td>\n",
              "      <td>0.904419</td>\n",
              "      <td>0.639617</td>\n",
              "      <td>0.386759</td>\n",
              "      <td>0.505156</td>\n",
              "      <td>0.015097</td>\n",
              "      <td>0.511463</td>\n",
              "      <td>0.515319</td>\n",
              "      <td>00:08</td>\n",
              "    </tr>\n",
              "    <tr>\n",
              "      <td>1</td>\n",
              "      <td>0.639403</td>\n",
              "      <td>0.216355</td>\n",
              "      <td>0.601601</td>\n",
              "      <td>0.557475</td>\n",
              "      <td>0.463053</td>\n",
              "      <td>0.789817</td>\n",
              "      <td>0.596061</td>\n",
              "      <td>00:08</td>\n",
              "    </tr>\n",
              "    <tr>\n",
              "      <td>2</td>\n",
              "      <td>0.509581</td>\n",
              "      <td>0.224670</td>\n",
              "      <td>0.587183</td>\n",
              "      <td>0.552546</td>\n",
              "      <td>0.442048</td>\n",
              "      <td>0.727725</td>\n",
              "      <td>0.626413</td>\n",
              "      <td>00:07</td>\n",
              "    </tr>\n",
              "    <tr>\n",
              "      <td>3</td>\n",
              "      <td>0.444133</td>\n",
              "      <td>0.160176</td>\n",
              "      <td>0.619561</td>\n",
              "      <td>0.600880</td>\n",
              "      <td>0.496645</td>\n",
              "      <td>0.744362</td>\n",
              "      <td>0.636355</td>\n",
              "      <td>00:07</td>\n",
              "    </tr>\n",
              "    <tr>\n",
              "      <td>4</td>\n",
              "      <td>0.376851</td>\n",
              "      <td>0.238537</td>\n",
              "      <td>0.646994</td>\n",
              "      <td>0.544337</td>\n",
              "      <td>0.577457</td>\n",
              "      <td>0.805025</td>\n",
              "      <td>0.661155</td>\n",
              "      <td>00:07</td>\n",
              "    </tr>\n",
              "    <tr>\n",
              "      <td>5</td>\n",
              "      <td>0.326205</td>\n",
              "      <td>0.106101</td>\n",
              "      <td>0.710657</td>\n",
              "      <td>0.694790</td>\n",
              "      <td>0.607618</td>\n",
              "      <td>0.833665</td>\n",
              "      <td>0.706556</td>\n",
              "      <td>00:07</td>\n",
              "    </tr>\n",
              "    <tr>\n",
              "      <td>6</td>\n",
              "      <td>0.271314</td>\n",
              "      <td>0.082973</td>\n",
              "      <td>0.744837</td>\n",
              "      <td>0.704671</td>\n",
              "      <td>0.645422</td>\n",
              "      <td>0.831151</td>\n",
              "      <td>0.798103</td>\n",
              "      <td>00:08</td>\n",
              "    </tr>\n",
              "    <tr>\n",
              "      <td>7</td>\n",
              "      <td>0.228007</td>\n",
              "      <td>0.084641</td>\n",
              "      <td>0.756246</td>\n",
              "      <td>0.677254</td>\n",
              "      <td>0.756393</td>\n",
              "      <td>0.860072</td>\n",
              "      <td>0.731264</td>\n",
              "      <td>00:07</td>\n",
              "    </tr>\n",
              "    <tr>\n",
              "      <td>8</td>\n",
              "      <td>0.197601</td>\n",
              "      <td>0.080426</td>\n",
              "      <td>0.819147</td>\n",
              "      <td>0.742303</td>\n",
              "      <td>0.905156</td>\n",
              "      <td>0.890974</td>\n",
              "      <td>0.738155</td>\n",
              "      <td>00:08</td>\n",
              "    </tr>\n",
              "    <tr>\n",
              "      <td>9</td>\n",
              "      <td>0.170676</td>\n",
              "      <td>0.076016</td>\n",
              "      <td>0.812834</td>\n",
              "      <td>0.697792</td>\n",
              "      <td>0.905537</td>\n",
              "      <td>0.889824</td>\n",
              "      <td>0.758182</td>\n",
              "      <td>00:08</td>\n",
              "    </tr>\n",
              "    <tr>\n",
              "      <td>10</td>\n",
              "      <td>0.149327</td>\n",
              "      <td>0.066714</td>\n",
              "      <td>0.859780</td>\n",
              "      <td>0.792823</td>\n",
              "      <td>0.897067</td>\n",
              "      <td>0.888051</td>\n",
              "      <td>0.861180</td>\n",
              "      <td>00:08</td>\n",
              "    </tr>\n",
              "    <tr>\n",
              "      <td>11</td>\n",
              "      <td>0.132083</td>\n",
              "      <td>0.070876</td>\n",
              "      <td>0.854281</td>\n",
              "      <td>0.827845</td>\n",
              "      <td>0.941168</td>\n",
              "      <td>0.902395</td>\n",
              "      <td>0.745715</td>\n",
              "      <td>00:07</td>\n",
              "    </tr>\n",
              "    <tr>\n",
              "      <td>12</td>\n",
              "      <td>0.116404</td>\n",
              "      <td>0.053809</td>\n",
              "      <td>0.896915</td>\n",
              "      <td>0.891432</td>\n",
              "      <td>0.915488</td>\n",
              "      <td>0.904549</td>\n",
              "      <td>0.876193</td>\n",
              "      <td>00:08</td>\n",
              "    </tr>\n",
              "    <tr>\n",
              "      <td>13</td>\n",
              "      <td>0.102351</td>\n",
              "      <td>0.057873</td>\n",
              "      <td>0.908980</td>\n",
              "      <td>0.892867</td>\n",
              "      <td>0.956698</td>\n",
              "      <td>0.929013</td>\n",
              "      <td>0.857341</td>\n",
              "      <td>00:07</td>\n",
              "    </tr>\n",
              "    <tr>\n",
              "      <td>14</td>\n",
              "      <td>0.093062</td>\n",
              "      <td>0.050241</td>\n",
              "      <td>0.918332</td>\n",
              "      <td>0.963724</td>\n",
              "      <td>0.912740</td>\n",
              "      <td>0.912775</td>\n",
              "      <td>0.884091</td>\n",
              "      <td>00:08</td>\n",
              "    </tr>\n",
              "    <tr>\n",
              "      <td>15</td>\n",
              "      <td>0.084214</td>\n",
              "      <td>0.060255</td>\n",
              "      <td>0.902302</td>\n",
              "      <td>0.919203</td>\n",
              "      <td>0.951347</td>\n",
              "      <td>0.927224</td>\n",
              "      <td>0.811434</td>\n",
              "      <td>00:07</td>\n",
              "    </tr>\n",
              "    <tr>\n",
              "      <td>16</td>\n",
              "      <td>0.077480</td>\n",
              "      <td>0.069938</td>\n",
              "      <td>0.877611</td>\n",
              "      <td>0.827569</td>\n",
              "      <td>0.947394</td>\n",
              "      <td>0.926209</td>\n",
              "      <td>0.809271</td>\n",
              "      <td>00:08</td>\n",
              "    </tr>\n",
              "    <tr>\n",
              "      <td>17</td>\n",
              "      <td>0.073199</td>\n",
              "      <td>0.074060</td>\n",
              "      <td>0.894942</td>\n",
              "      <td>0.917404</td>\n",
              "      <td>0.937292</td>\n",
              "      <td>0.934097</td>\n",
              "      <td>0.790974</td>\n",
              "      <td>00:08</td>\n",
              "    </tr>\n",
              "    <tr>\n",
              "      <td>18</td>\n",
              "      <td>0.068107</td>\n",
              "      <td>0.056772</td>\n",
              "      <td>0.912683</td>\n",
              "      <td>0.928339</td>\n",
              "      <td>0.931275</td>\n",
              "      <td>0.926605</td>\n",
              "      <td>0.864513</td>\n",
              "      <td>00:08</td>\n",
              "    </tr>\n",
              "    <tr>\n",
              "      <td>19</td>\n",
              "      <td>0.064120</td>\n",
              "      <td>0.055054</td>\n",
              "      <td>0.931817</td>\n",
              "      <td>0.963117</td>\n",
              "      <td>0.927126</td>\n",
              "      <td>0.927921</td>\n",
              "      <td>0.909103</td>\n",
              "      <td>00:08</td>\n",
              "    </tr>\n",
              "    <tr>\n",
              "      <td>20</td>\n",
              "      <td>0.061026</td>\n",
              "      <td>0.056994</td>\n",
              "      <td>0.923623</td>\n",
              "      <td>0.956200</td>\n",
              "      <td>0.960353</td>\n",
              "      <td>0.930358</td>\n",
              "      <td>0.847581</td>\n",
              "      <td>00:08</td>\n",
              "    </tr>\n",
              "    <tr>\n",
              "      <td>21</td>\n",
              "      <td>0.057238</td>\n",
              "      <td>0.050803</td>\n",
              "      <td>0.935406</td>\n",
              "      <td>0.964859</td>\n",
              "      <td>0.948448</td>\n",
              "      <td>0.935869</td>\n",
              "      <td>0.892448</td>\n",
              "      <td>00:07</td>\n",
              "    </tr>\n",
              "    <tr>\n",
              "      <td>22</td>\n",
              "      <td>0.055167</td>\n",
              "      <td>0.052296</td>\n",
              "      <td>0.939583</td>\n",
              "      <td>0.965607</td>\n",
              "      <td>0.955966</td>\n",
              "      <td>0.934852</td>\n",
              "      <td>0.901908</td>\n",
              "      <td>00:07</td>\n",
              "    </tr>\n",
              "    <tr>\n",
              "      <td>23</td>\n",
              "      <td>0.052733</td>\n",
              "      <td>0.053662</td>\n",
              "      <td>0.932216</td>\n",
              "      <td>0.965091</td>\n",
              "      <td>0.946856</td>\n",
              "      <td>0.933623</td>\n",
              "      <td>0.883296</td>\n",
              "      <td>00:08</td>\n",
              "    </tr>\n",
              "    <tr>\n",
              "      <td>24</td>\n",
              "      <td>0.051462</td>\n",
              "      <td>0.053832</td>\n",
              "      <td>0.930019</td>\n",
              "      <td>0.965069</td>\n",
              "      <td>0.947290</td>\n",
              "      <td>0.933568</td>\n",
              "      <td>0.874148</td>\n",
              "      <td>00:08</td>\n",
              "    </tr>\n",
              "  </tbody>\n",
              "</table>"
            ],
            "text/plain": [
              "<IPython.core.display.HTML object>"
            ]
          },
          "metadata": {
            "tags": []
          }
        },
        {
          "output_type": "stream",
          "text": [
            "Better model found at epoch 0 with dice_coeff value: 0.3867585361003876.\n",
            "Better model found at epoch 1 with dice_coeff value: 0.6016014218330383.\n",
            "Better model found at epoch 3 with dice_coeff value: 0.6195606589317322.\n",
            "Better model found at epoch 4 with dice_coeff value: 0.6469935178756714.\n",
            "Better model found at epoch 5 with dice_coeff value: 0.7106570601463318.\n",
            "Better model found at epoch 6 with dice_coeff value: 0.7448369264602661.\n",
            "Better model found at epoch 7 with dice_coeff value: 0.7562456130981445.\n",
            "Better model found at epoch 8 with dice_coeff value: 0.8191468119621277.\n",
            "Better model found at epoch 10 with dice_coeff value: 0.8597803115844727.\n",
            "Better model found at epoch 12 with dice_coeff value: 0.8969153761863708.\n",
            "Better model found at epoch 13 with dice_coeff value: 0.9089798331260681.\n",
            "Better model found at epoch 14 with dice_coeff value: 0.9183322191238403.\n",
            "Better model found at epoch 19 with dice_coeff value: 0.9318166971206665.\n",
            "Better model found at epoch 21 with dice_coeff value: 0.9354060292243958.\n",
            "Better model found at epoch 22 with dice_coeff value: 0.9395831227302551.\n"
          ],
          "name": "stdout"
        }
      ]
    },
    {
      "cell_type": "markdown",
      "metadata": {
        "id": "JpaQiuIVUYQs"
      },
      "source": [
        "Training for additional 25 epochs after unfreezing all the layers"
      ]
    },
    {
      "cell_type": "code",
      "metadata": {
        "id": "2_SbYQcoV1Sx",
        "outputId": "2715e36c-3cd9-401c-dca0-749900840034",
        "colab": {
          "base_uri": "https://localhost:8080/",
          "height": 871
        }
      },
      "source": [
        "torch.cuda.empty_cache()\n",
        "learn.load('UNET-Resnet34-1')\n",
        "learn.unfreeze()\n",
        "learn.dls.bs = 32\n",
        "learn.fit_one_cycle(25, 1e-4, cbs=[SaveModelCallback(monitor='dice_coeff', fname=\"UNET-Resnet34-2\")])"
      ],
      "execution_count": null,
      "outputs": [
        {
          "output_type": "display_data",
          "data": {
            "text/html": [
              "<table border=\"1\" class=\"dataframe\">\n",
              "  <thead>\n",
              "    <tr style=\"text-align: left;\">\n",
              "      <th>epoch</th>\n",
              "      <th>train_loss</th>\n",
              "      <th>valid_loss</th>\n",
              "      <th>dice_coeff</th>\n",
              "      <th>mask_dice_coeff</th>\n",
              "      <th>mask_dice_coeff</th>\n",
              "      <th>mask_dice_coeff</th>\n",
              "      <th>mask_dice_coeff</th>\n",
              "      <th>time</th>\n",
              "    </tr>\n",
              "  </thead>\n",
              "  <tbody>\n",
              "    <tr>\n",
              "      <td>0</td>\n",
              "      <td>0.047850</td>\n",
              "      <td>0.055142</td>\n",
              "      <td>0.927697</td>\n",
              "      <td>0.965144</td>\n",
              "      <td>0.946644</td>\n",
              "      <td>0.933964</td>\n",
              "      <td>0.865037</td>\n",
              "      <td>00:08</td>\n",
              "    </tr>\n",
              "    <tr>\n",
              "      <td>1</td>\n",
              "      <td>0.047223</td>\n",
              "      <td>0.054483</td>\n",
              "      <td>0.935410</td>\n",
              "      <td>0.965632</td>\n",
              "      <td>0.946947</td>\n",
              "      <td>0.936501</td>\n",
              "      <td>0.892561</td>\n",
              "      <td>00:08</td>\n",
              "    </tr>\n",
              "    <tr>\n",
              "      <td>2</td>\n",
              "      <td>0.047184</td>\n",
              "      <td>0.063685</td>\n",
              "      <td>0.928990</td>\n",
              "      <td>0.963733</td>\n",
              "      <td>0.942537</td>\n",
              "      <td>0.919692</td>\n",
              "      <td>0.889998</td>\n",
              "      <td>00:08</td>\n",
              "    </tr>\n",
              "    <tr>\n",
              "      <td>3</td>\n",
              "      <td>0.048174</td>\n",
              "      <td>0.046175</td>\n",
              "      <td>0.938300</td>\n",
              "      <td>0.966968</td>\n",
              "      <td>0.940354</td>\n",
              "      <td>0.941554</td>\n",
              "      <td>0.904322</td>\n",
              "      <td>00:08</td>\n",
              "    </tr>\n",
              "    <tr>\n",
              "      <td>4</td>\n",
              "      <td>0.048094</td>\n",
              "      <td>0.066723</td>\n",
              "      <td>0.935611</td>\n",
              "      <td>0.965030</td>\n",
              "      <td>0.940038</td>\n",
              "      <td>0.943556</td>\n",
              "      <td>0.893822</td>\n",
              "      <td>00:08</td>\n",
              "    </tr>\n",
              "    <tr>\n",
              "      <td>5</td>\n",
              "      <td>0.048155</td>\n",
              "      <td>0.053726</td>\n",
              "      <td>0.908856</td>\n",
              "      <td>0.928923</td>\n",
              "      <td>0.882014</td>\n",
              "      <td>0.943162</td>\n",
              "      <td>0.881326</td>\n",
              "      <td>00:08</td>\n",
              "    </tr>\n",
              "    <tr>\n",
              "      <td>6</td>\n",
              "      <td>0.047539</td>\n",
              "      <td>0.054186</td>\n",
              "      <td>0.908450</td>\n",
              "      <td>0.948177</td>\n",
              "      <td>0.860619</td>\n",
              "      <td>0.950575</td>\n",
              "      <td>0.874428</td>\n",
              "      <td>00:08</td>\n",
              "    </tr>\n",
              "    <tr>\n",
              "      <td>7</td>\n",
              "      <td>0.046390</td>\n",
              "      <td>0.061292</td>\n",
              "      <td>0.923790</td>\n",
              "      <td>0.955342</td>\n",
              "      <td>0.905410</td>\n",
              "      <td>0.927161</td>\n",
              "      <td>0.907245</td>\n",
              "      <td>00:08</td>\n",
              "    </tr>\n",
              "    <tr>\n",
              "      <td>8</td>\n",
              "      <td>0.044966</td>\n",
              "      <td>0.051842</td>\n",
              "      <td>0.931934</td>\n",
              "      <td>0.949648</td>\n",
              "      <td>0.912676</td>\n",
              "      <td>0.952190</td>\n",
              "      <td>0.913222</td>\n",
              "      <td>00:08</td>\n",
              "    </tr>\n",
              "    <tr>\n",
              "      <td>9</td>\n",
              "      <td>0.043234</td>\n",
              "      <td>0.051517</td>\n",
              "      <td>0.932837</td>\n",
              "      <td>0.958482</td>\n",
              "      <td>0.922802</td>\n",
              "      <td>0.957050</td>\n",
              "      <td>0.893014</td>\n",
              "      <td>00:08</td>\n",
              "    </tr>\n",
              "    <tr>\n",
              "      <td>10</td>\n",
              "      <td>0.041644</td>\n",
              "      <td>0.054290</td>\n",
              "      <td>0.932803</td>\n",
              "      <td>0.966218</td>\n",
              "      <td>0.925932</td>\n",
              "      <td>0.946610</td>\n",
              "      <td>0.892452</td>\n",
              "      <td>00:08</td>\n",
              "    </tr>\n",
              "    <tr>\n",
              "      <td>11</td>\n",
              "      <td>0.040232</td>\n",
              "      <td>0.055898</td>\n",
              "      <td>0.933292</td>\n",
              "      <td>0.948980</td>\n",
              "      <td>0.939186</td>\n",
              "      <td>0.953250</td>\n",
              "      <td>0.891753</td>\n",
              "      <td>00:08</td>\n",
              "    </tr>\n",
              "    <tr>\n",
              "      <td>12</td>\n",
              "      <td>0.038403</td>\n",
              "      <td>0.049137</td>\n",
              "      <td>0.924586</td>\n",
              "      <td>0.958736</td>\n",
              "      <td>0.888973</td>\n",
              "      <td>0.956730</td>\n",
              "      <td>0.893905</td>\n",
              "      <td>00:08</td>\n",
              "    </tr>\n",
              "    <tr>\n",
              "      <td>13</td>\n",
              "      <td>0.036973</td>\n",
              "      <td>0.053949</td>\n",
              "      <td>0.938412</td>\n",
              "      <td>0.967820</td>\n",
              "      <td>0.943700</td>\n",
              "      <td>0.947690</td>\n",
              "      <td>0.894438</td>\n",
              "      <td>00:08</td>\n",
              "    </tr>\n",
              "    <tr>\n",
              "      <td>14</td>\n",
              "      <td>0.035956</td>\n",
              "      <td>0.052342</td>\n",
              "      <td>0.926550</td>\n",
              "      <td>0.966759</td>\n",
              "      <td>0.890926</td>\n",
              "      <td>0.956585</td>\n",
              "      <td>0.891932</td>\n",
              "      <td>00:08</td>\n",
              "    </tr>\n",
              "    <tr>\n",
              "      <td>15</td>\n",
              "      <td>0.034731</td>\n",
              "      <td>0.050988</td>\n",
              "      <td>0.939451</td>\n",
              "      <td>0.958526</td>\n",
              "      <td>0.950037</td>\n",
              "      <td>0.956202</td>\n",
              "      <td>0.893039</td>\n",
              "      <td>00:08</td>\n",
              "    </tr>\n",
              "    <tr>\n",
              "      <td>16</td>\n",
              "      <td>0.033483</td>\n",
              "      <td>0.054243</td>\n",
              "      <td>0.923651</td>\n",
              "      <td>0.922255</td>\n",
              "      <td>0.934761</td>\n",
              "      <td>0.946347</td>\n",
              "      <td>0.891242</td>\n",
              "      <td>00:08</td>\n",
              "    </tr>\n",
              "    <tr>\n",
              "      <td>17</td>\n",
              "      <td>0.032443</td>\n",
              "      <td>0.052336</td>\n",
              "      <td>0.931327</td>\n",
              "      <td>0.958837</td>\n",
              "      <td>0.925381</td>\n",
              "      <td>0.948474</td>\n",
              "      <td>0.892618</td>\n",
              "      <td>00:08</td>\n",
              "    </tr>\n",
              "    <tr>\n",
              "      <td>18</td>\n",
              "      <td>0.031315</td>\n",
              "      <td>0.057149</td>\n",
              "      <td>0.930010</td>\n",
              "      <td>0.948790</td>\n",
              "      <td>0.925511</td>\n",
              "      <td>0.953910</td>\n",
              "      <td>0.891829</td>\n",
              "      <td>00:08</td>\n",
              "    </tr>\n",
              "    <tr>\n",
              "      <td>19</td>\n",
              "      <td>0.030441</td>\n",
              "      <td>0.055690</td>\n",
              "      <td>0.930451</td>\n",
              "      <td>0.949385</td>\n",
              "      <td>0.925189</td>\n",
              "      <td>0.954921</td>\n",
              "      <td>0.892309</td>\n",
              "      <td>00:08</td>\n",
              "    </tr>\n",
              "    <tr>\n",
              "      <td>20</td>\n",
              "      <td>0.029836</td>\n",
              "      <td>0.056604</td>\n",
              "      <td>0.934647</td>\n",
              "      <td>0.967209</td>\n",
              "      <td>0.923683</td>\n",
              "      <td>0.955626</td>\n",
              "      <td>0.892069</td>\n",
              "      <td>00:08</td>\n",
              "    </tr>\n",
              "    <tr>\n",
              "      <td>21</td>\n",
              "      <td>0.029287</td>\n",
              "      <td>0.054920</td>\n",
              "      <td>0.930851</td>\n",
              "      <td>0.958631</td>\n",
              "      <td>0.916183</td>\n",
              "      <td>0.956306</td>\n",
              "      <td>0.892284</td>\n",
              "      <td>00:08</td>\n",
              "    </tr>\n",
              "    <tr>\n",
              "      <td>22</td>\n",
              "      <td>0.028554</td>\n",
              "      <td>0.058824</td>\n",
              "      <td>0.927850</td>\n",
              "      <td>0.949210</td>\n",
              "      <td>0.915736</td>\n",
              "      <td>0.955221</td>\n",
              "      <td>0.891234</td>\n",
              "      <td>00:08</td>\n",
              "    </tr>\n",
              "    <tr>\n",
              "      <td>23</td>\n",
              "      <td>0.028257</td>\n",
              "      <td>0.057898</td>\n",
              "      <td>0.936947</td>\n",
              "      <td>0.958263</td>\n",
              "      <td>0.942380</td>\n",
              "      <td>0.955242</td>\n",
              "      <td>0.891902</td>\n",
              "      <td>00:08</td>\n",
              "    </tr>\n",
              "    <tr>\n",
              "      <td>24</td>\n",
              "      <td>0.027951</td>\n",
              "      <td>0.056967</td>\n",
              "      <td>0.937149</td>\n",
              "      <td>0.967264</td>\n",
              "      <td>0.933749</td>\n",
              "      <td>0.955713</td>\n",
              "      <td>0.891869</td>\n",
              "      <td>00:08</td>\n",
              "    </tr>\n",
              "  </tbody>\n",
              "</table>"
            ],
            "text/plain": [
              "<IPython.core.display.HTML object>"
            ]
          },
          "metadata": {
            "tags": []
          }
        },
        {
          "output_type": "stream",
          "text": [
            "Better model found at epoch 0 with dice_coeff value: 0.9276970624923706.\n",
            "Better model found at epoch 1 with dice_coeff value: 0.9354101419448853.\n",
            "Better model found at epoch 3 with dice_coeff value: 0.9382995367050171.\n",
            "Better model found at epoch 13 with dice_coeff value: 0.9384121298789978.\n",
            "Better model found at epoch 15 with dice_coeff value: 0.9394510984420776.\n"
          ],
          "name": "stdout"
        }
      ]
    },
    {
      "cell_type": "markdown",
      "metadata": {
        "id": "W7rr6YSVUl7s"
      },
      "source": [
        "Loading the best model to visually inspect performance"
      ]
    },
    {
      "cell_type": "code",
      "metadata": {
        "id": "L0YOrN7hMC23",
        "outputId": "a1e6cfb5-4db8-4848-cf79-eb4a3c7ecce4",
        "colab": {
          "base_uri": "https://localhost:8080/",
          "height": 585
        }
      },
      "source": [
        "learn.load('UNET-Resnet34-2')\n",
        "learn.show_results()"
      ],
      "execution_count": null,
      "outputs": [
        {
          "output_type": "display_data",
          "data": {
            "text/html": [
              ""
            ],
            "text/plain": [
              "<IPython.core.display.HTML object>"
            ]
          },
          "metadata": {
            "tags": []
          }
        },
        {
          "output_type": "display_data",
          "data": {
            "image/png": "[encoded data removed]",
            "text/plain": [
              "<Figure size 432x648 with 6 Axes>"
            ]
          },
          "metadata": {
            "tags": [],
            "needs_background": "light"
          }
        }
      ]
    },
    {
      "cell_type": "markdown",
      "metadata": {
        "id": "fiE8ZlNEU_6p"
      },
      "source": [
        "The model is trained to output 224x224 masks for 3x224x224 images. Writing a loop to \n",
        "\n",
        "1.   Cut the images into 224x224x3 sections\n",
        "2.   Get predictions for each section\n",
        "3.   Stitch the predictions to form image sized masks\n",
        "4.   Convert the masks to original mask image format"
      ]
    },
    {
      "cell_type": "code",
      "metadata": {
        "id": "QC-jqPOmDe0f",
        "outputId": "34cbaeaa-2a34-4a5e-9b83-ea28e26b4220",
        "colab": {
          "base_uri": "https://localhost:8080/",
          "height": 218
        }
      },
      "source": [
        "learn.load('UNET-Resnet34-2')\n",
        "shutil.rmtree('/content/gdrive/My Drive/competitions/AIRA/Predictions')\n",
        "os.mkdir('/content/gdrive/My Drive/competitions/AIRA/Predictions')\n",
        "\n",
        "for k in range(6):\n",
        "  print('/content/gdrive/My Drive/competitions/AIRA/Images/'+str(k+1)+'.jpg')\n",
        "  Image_1 = cv2.imread('/content/gdrive/My Drive/competitions/AIRA/Images/'+str(k+1)+'.jpg')\n",
        "  Image_1 = cv2.cvtColor(Image_1, cv2.COLOR_BGR2RGB)\n",
        "  print(Image_1.shape)\n",
        "  Predicted_1 = np.zeros((896, 1906))\n",
        "\n",
        "  #For Visual Inspection\n",
        "  Predicted_1[Predicted_1 == 0] = 5\n",
        "\n",
        "  for i in range(4):\n",
        "    for j in range(8):\n",
        "      Temp_Image = Image_1[224*i:224*(i+1), 224*j:224*(j+1)]\n",
        "      Predicted_1[224*i:224*(i+1), 224*j:224*(j+1)] = learn.predict(Temp_Image)[0].numpy()\n",
        "\n",
        "      if j == 7:\n",
        "        Temp_Image = Image_1[224*i:224*(i+1), 1682:]\n",
        "        Predicted_1[224*i:224*(i+1), -114:] = learn.predict(Temp_Image)[0].numpy()[:, -114:]\n",
        "\n",
        "  Temp_Array_B = Predicted_1.copy()\n",
        "  Temp_Array_B[Temp_Array_B == 0] = 28\n",
        "  Temp_Array_B[Temp_Array_B == 1] = 39\n",
        "  Temp_Array_B[Temp_Array_B == 2] = 110\n",
        "  Temp_Array_B[Temp_Array_B == 3] = 163\n",
        "\n",
        "  Temp_Array_G = Predicted_1.copy()\n",
        "  Temp_Array_G[Temp_Array_G == 0] = 212\n",
        "  Temp_Array_G[Temp_Array_G == 1] = 30\n",
        "  Temp_Array_G[Temp_Array_G == 2] = 190\n",
        "  Temp_Array_G[Temp_Array_G == 3] = 92\n",
        "\n",
        "  Temp_Array_R = Predicted_1.copy()\n",
        "  Temp_Array_R[Temp_Array_R == 0] = 224\n",
        "  Temp_Array_R[Temp_Array_R == 1] = 234\n",
        "  Temp_Array_R[Temp_Array_R == 2] = 101\n",
        "  Temp_Array_R[Temp_Array_R == 3] = 24\n",
        "\n",
        "  cv2.imwrite('/content/gdrive/My Drive/competitions/AIRA/Predictions/PredMask_'+str(k+1)+'.png', np.dstack((Temp_Array_B, Temp_Array_G, Temp_Array_R)))"
      ],
      "execution_count": null,
      "outputs": [
        {
          "output_type": "stream",
          "text": [
            "/content/gdrive/My Drive/competitions/AIRA/Images/1.jpg\n",
            "(896, 1906, 3)\n"
          ],
          "name": "stdout"
        },
        {
          "output_type": "display_data",
          "data": {
            "text/html": [
              ""
            ],
            "text/plain": [
              "<IPython.core.display.HTML object>"
            ]
          },
          "metadata": {
            "tags": []
          }
        },
        {
          "output_type": "display_data",
          "data": {
            "text/html": [
              ""
            ],
            "text/plain": [
              "<IPython.core.display.HTML object>"
            ]
          },
          "metadata": {
            "tags": []
          }
        },
        {
          "output_type": "display_data",
          "data": {
            "text/html": [
              ""
            ],
            "text/plain": [
              "<IPython.core.display.HTML object>"
            ]
          },
          "metadata": {
            "tags": []
          }
        },
        {
          "output_type": "display_data",
          "data": {
            "text/html": [
              ""
            ],
            "text/plain": [
              "<IPython.core.display.HTML object>"
            ]
          },
          "metadata": {
            "tags": []
          }
        },
        {
          "output_type": "display_data",
          "data": {
            "text/html": [
              ""
            ],
            "text/plain": [
              "<IPython.core.display.HTML object>"
            ]
          },
          "metadata": {
            "tags": []
          }
        },
        {
          "output_type": "display_data",
          "data": {
            "text/html": [
              ""
            ],
            "text/plain": [
              "<IPython.core.display.HTML object>"
            ]
          },
          "metadata": {
            "tags": []
          }
        },
        {
          "output_type": "display_data",
          "data": {
            "text/html": [
              ""
            ],
            "text/plain": [
              "<IPython.core.display.HTML object>"
            ]
          },
          "metadata": {
            "tags": []
          }
        },
        {
          "output_type": "display_data",
          "data": {
            "text/html": [
              ""
            ],
            "text/plain": [
              "<IPython.core.display.HTML object>"
            ]
          },
          "metadata": {
            "tags": []
          }
        },
        {
          "output_type": "display_data",
          "data": {
            "text/html": [
              ""
            ],
            "text/plain": [
              "<IPython.core.display.HTML object>"
            ]
          },
          "metadata": {
            "tags": []
          }
        },
        {
          "output_type": "display_data",
          "data": {
            "text/html": [
              ""
            ],
            "text/plain": [
              "<IPython.core.display.HTML object>"
            ]
          },
          "metadata": {
            "tags": []
          }
        },
        {
          "output_type": "display_data",
          "data": {
            "text/html": [
              ""
            ],
            "text/plain": [
              "<IPython.core.display.HTML object>"
            ]
          },
          "metadata": {
            "tags": []
          }
        },
        {
          "output_type": "display_data",
          "data": {
            "text/html": [
              ""
            ],
            "text/plain": [
              "<IPython.core.display.HTML object>"
            ]
          },
          "metadata": {
            "tags": []
          }
        },
        {
          "output_type": "display_data",
          "data": {
            "text/html": [
              ""
            ],
            "text/plain": [
              "<IPython.core.display.HTML object>"
            ]
          },
          "metadata": {
            "tags": []
          }
        },
        {
          "output_type": "display_data",
          "data": {
            "text/html": [
              ""
            ],
            "text/plain": [
              "<IPython.core.display.HTML object>"
            ]
          },
          "metadata": {
            "tags": []
          }
        },
        {
          "output_type": "display_data",
          "data": {
            "text/html": [
              ""
            ],
            "text/plain": [
              "<IPython.core.display.HTML object>"
            ]
          },
          "metadata": {
            "tags": []
          }
        },
        {
          "output_type": "display_data",
          "data": {
            "text/html": [
              ""
            ],
            "text/plain": [
              "<IPython.core.display.HTML object>"
            ]
          },
          "metadata": {
            "tags": []
          }
        },
        {
          "output_type": "display_data",
          "data": {
            "text/html": [
              ""
            ],
            "text/plain": [
              "<IPython.core.display.HTML object>"
            ]
          },
          "metadata": {
            "tags": []
          }
        },
        {
          "output_type": "display_data",
          "data": {
            "text/html": [
              ""
            ],
            "text/plain": [
              "<IPython.core.display.HTML object>"
            ]
          },
          "metadata": {
            "tags": []
          }
        },
        {
          "output_type": "display_data",
          "data": {
            "text/html": [
              ""
            ],
            "text/plain": [
              "<IPython.core.display.HTML object>"
            ]
          },
          "metadata": {
            "tags": []
          }
        },
        {
          "output_type": "display_data",
          "data": {
            "text/html": [
              ""
            ],
            "text/plain": [
              "<IPython.core.display.HTML object>"
            ]
          },
          "metadata": {
            "tags": []
          }
        },
        {
          "output_type": "display_data",
          "data": {
            "text/html": [
              ""
            ],
            "text/plain": [
              "<IPython.core.display.HTML object>"
            ]
          },
          "metadata": {
            "tags": []
          }
        },
        {
          "output_type": "display_data",
          "data": {
            "text/html": [
              ""
            ],
            "text/plain": [
              "<IPython.core.display.HTML object>"
            ]
          },
          "metadata": {
            "tags": []
          }
        },
        {
          "output_type": "display_data",
          "data": {
            "text/html": [
              ""
            ],
            "text/plain": [
              "<IPython.core.display.HTML object>"
            ]
          },
          "metadata": {
            "tags": []
          }
        },
        {
          "output_type": "display_data",
          "data": {
            "text/html": [
              ""
            ],
            "text/plain": [
              "<IPython.core.display.HTML object>"
            ]
          },
          "metadata": {
            "tags": []
          }
        },
        {
          "output_type": "display_data",
          "data": {
            "text/html": [
              ""
            ],
            "text/plain": [
              "<IPython.core.display.HTML object>"
            ]
          },
          "metadata": {
            "tags": []
          }
        },
        {
          "output_type": "display_data",
          "data": {
            "text/html": [
              ""
            ],
            "text/plain": [
              "<IPython.core.display.HTML object>"
            ]
          },
          "metadata": {
            "tags": []
          }
        },
        {
          "output_type": "display_data",
          "data": {
            "text/html": [
              ""
            ],
            "text/plain": [
              "<IPython.core.display.HTML object>"
            ]
          },
          "metadata": {
            "tags": []
          }
        },
        {
          "output_type": "display_data",
          "data": {
            "text/html": [
              ""
            ],
            "text/plain": [
              "<IPython.core.display.HTML object>"
            ]
          },
          "metadata": {
            "tags": []
          }
        },
        {
          "output_type": "display_data",
          "data": {
            "text/html": [
              ""
            ],
            "text/plain": [
              "<IPython.core.display.HTML object>"
            ]
          },
          "metadata": {
            "tags": []
          }
        },
        {
          "output_type": "display_data",
          "data": {
            "text/html": [
              ""
            ],
            "text/plain": [
              "<IPython.core.display.HTML object>"
            ]
          },
          "metadata": {
            "tags": []
          }
        },
        {
          "output_type": "display_data",
          "data": {
            "text/html": [
              ""
            ],
            "text/plain": [
              "<IPython.core.display.HTML object>"
            ]
          },
          "metadata": {
            "tags": []
          }
        },
        {
          "output_type": "display_data",
          "data": {
            "text/html": [
              ""
            ],
            "text/plain": [
              "<IPython.core.display.HTML object>"
            ]
          },
          "metadata": {
            "tags": []
          }
        },
        {
          "output_type": "display_data",
          "data": {
            "text/html": [
              ""
            ],
            "text/plain": [
              "<IPython.core.display.HTML object>"
            ]
          },
          "metadata": {
            "tags": []
          }
        },
        {
          "output_type": "display_data",
          "data": {
            "text/html": [
              ""
            ],
            "text/plain": [
              "<IPython.core.display.HTML object>"
            ]
          },
          "metadata": {
            "tags": []
          }
        },
        {
          "output_type": "display_data",
          "data": {
            "text/html": [
              ""
            ],
            "text/plain": [
              "<IPython.core.display.HTML object>"
            ]
          },
          "metadata": {
            "tags": []
          }
        },
        {
          "output_type": "display_data",
          "data": {
            "text/html": [
              ""
            ],
            "text/plain": [
              "<IPython.core.display.HTML object>"
            ]
          },
          "metadata": {
            "tags": []
          }
        },
        {
          "output_type": "stream",
          "text": [
            "/content/gdrive/My Drive/competitions/AIRA/Images/2.jpg\n",
            "(896, 1906, 3)\n"
          ],
          "name": "stdout"
        },
        {
          "output_type": "display_data",
          "data": {
            "text/html": [
              ""
            ],
            "text/plain": [
              "<IPython.core.display.HTML object>"
            ]
          },
          "metadata": {
            "tags": []
          }
        },
        {
          "output_type": "display_data",
          "data": {
            "text/html": [
              ""
            ],
            "text/plain": [
              "<IPython.core.display.HTML object>"
            ]
          },
          "metadata": {
            "tags": []
          }
        },
        {
          "output_type": "display_data",
          "data": {
            "text/html": [
              ""
            ],
            "text/plain": [
              "<IPython.core.display.HTML object>"
            ]
          },
          "metadata": {
            "tags": []
          }
        },
        {
          "output_type": "display_data",
          "data": {
            "text/html": [
              ""
            ],
            "text/plain": [
              "<IPython.core.display.HTML object>"
            ]
          },
          "metadata": {
            "tags": []
          }
        },
        {
          "output_type": "display_data",
          "data": {
            "text/html": [
              ""
            ],
            "text/plain": [
              "<IPython.core.display.HTML object>"
            ]
          },
          "metadata": {
            "tags": []
          }
        },
        {
          "output_type": "display_data",
          "data": {
            "text/html": [
              ""
            ],
            "text/plain": [
              "<IPython.core.display.HTML object>"
            ]
          },
          "metadata": {
            "tags": []
          }
        },
        {
          "output_type": "display_data",
          "data": {
            "text/html": [
              ""
            ],
            "text/plain": [
              "<IPython.core.display.HTML object>"
            ]
          },
          "metadata": {
            "tags": []
          }
        },
        {
          "output_type": "display_data",
          "data": {
            "text/html": [
              ""
            ],
            "text/plain": [
              "<IPython.core.display.HTML object>"
            ]
          },
          "metadata": {
            "tags": []
          }
        },
        {
          "output_type": "display_data",
          "data": {
            "text/html": [
              ""
            ],
            "text/plain": [
              "<IPython.core.display.HTML object>"
            ]
          },
          "metadata": {
            "tags": []
          }
        },
        {
          "output_type": "display_data",
          "data": {
            "text/html": [
              ""
            ],
            "text/plain": [
              "<IPython.core.display.HTML object>"
            ]
          },
          "metadata": {
            "tags": []
          }
        },
        {
          "output_type": "display_data",
          "data": {
            "text/html": [
              ""
            ],
            "text/plain": [
              "<IPython.core.display.HTML object>"
            ]
          },
          "metadata": {
            "tags": []
          }
        },
        {
          "output_type": "display_data",
          "data": {
            "text/html": [
              ""
            ],
            "text/plain": [
              "<IPython.core.display.HTML object>"
            ]
          },
          "metadata": {
            "tags": []
          }
        },
        {
          "output_type": "display_data",
          "data": {
            "text/html": [
              ""
            ],
            "text/plain": [
              "<IPython.core.display.HTML object>"
            ]
          },
          "metadata": {
            "tags": []
          }
        },
        {
          "output_type": "display_data",
          "data": {
            "text/html": [
              ""
            ],
            "text/plain": [
              "<IPython.core.display.HTML object>"
            ]
          },
          "metadata": {
            "tags": []
          }
        },
        {
          "output_type": "display_data",
          "data": {
            "text/html": [
              ""
            ],
            "text/plain": [
              "<IPython.core.display.HTML object>"
            ]
          },
          "metadata": {
            "tags": []
          }
        },
        {
          "output_type": "display_data",
          "data": {
            "text/html": [
              ""
            ],
            "text/plain": [
              "<IPython.core.display.HTML object>"
            ]
          },
          "metadata": {
            "tags": []
          }
        },
        {
          "output_type": "display_data",
          "data": {
            "text/html": [
              ""
            ],
            "text/plain": [
              "<IPython.core.display.HTML object>"
            ]
          },
          "metadata": {
            "tags": []
          }
        },
        {
          "output_type": "display_data",
          "data": {
            "text/html": [
              ""
            ],
            "text/plain": [
              "<IPython.core.display.HTML object>"
            ]
          },
          "metadata": {
            "tags": []
          }
        },
        {
          "output_type": "display_data",
          "data": {
            "text/html": [
              ""
            ],
            "text/plain": [
              "<IPython.core.display.HTML object>"
            ]
          },
          "metadata": {
            "tags": []
          }
        },
        {
          "output_type": "display_data",
          "data": {
            "text/html": [
              ""
            ],
            "text/plain": [
              "<IPython.core.display.HTML object>"
            ]
          },
          "metadata": {
            "tags": []
          }
        },
        {
          "output_type": "display_data",
          "data": {
            "text/html": [
              ""
            ],
            "text/plain": [
              "<IPython.core.display.HTML object>"
            ]
          },
          "metadata": {
            "tags": []
          }
        },
        {
          "output_type": "display_data",
          "data": {
            "text/html": [
              ""
            ],
            "text/plain": [
              "<IPython.core.display.HTML object>"
            ]
          },
          "metadata": {
            "tags": []
          }
        },
        {
          "output_type": "display_data",
          "data": {
            "text/html": [
              ""
            ],
            "text/plain": [
              "<IPython.core.display.HTML object>"
            ]
          },
          "metadata": {
            "tags": []
          }
        },
        {
          "output_type": "display_data",
          "data": {
            "text/html": [
              ""
            ],
            "text/plain": [
              "<IPython.core.display.HTML object>"
            ]
          },
          "metadata": {
            "tags": []
          }
        },
        {
          "output_type": "display_data",
          "data": {
            "text/html": [
              ""
            ],
            "text/plain": [
              "<IPython.core.display.HTML object>"
            ]
          },
          "metadata": {
            "tags": []
          }
        },
        {
          "output_type": "display_data",
          "data": {
            "text/html": [
              ""
            ],
            "text/plain": [
              "<IPython.core.display.HTML object>"
            ]
          },
          "metadata": {
            "tags": []
          }
        },
        {
          "output_type": "display_data",
          "data": {
            "text/html": [
              ""
            ],
            "text/plain": [
              "<IPython.core.display.HTML object>"
            ]
          },
          "metadata": {
            "tags": []
          }
        },
        {
          "output_type": "display_data",
          "data": {
            "text/html": [
              ""
            ],
            "text/plain": [
              "<IPython.core.display.HTML object>"
            ]
          },
          "metadata": {
            "tags": []
          }
        },
        {
          "output_type": "display_data",
          "data": {
            "text/html": [
              ""
            ],
            "text/plain": [
              "<IPython.core.display.HTML object>"
            ]
          },
          "metadata": {
            "tags": []
          }
        },
        {
          "output_type": "display_data",
          "data": {
            "text/html": [
              ""
            ],
            "text/plain": [
              "<IPython.core.display.HTML object>"
            ]
          },
          "metadata": {
            "tags": []
          }
        },
        {
          "output_type": "display_data",
          "data": {
            "text/html": [
              ""
            ],
            "text/plain": [
              "<IPython.core.display.HTML object>"
            ]
          },
          "metadata": {
            "tags": []
          }
        },
        {
          "output_type": "display_data",
          "data": {
            "text/html": [
              ""
            ],
            "text/plain": [
              "<IPython.core.display.HTML object>"
            ]
          },
          "metadata": {
            "tags": []
          }
        },
        {
          "output_type": "display_data",
          "data": {
            "text/html": [
              ""
            ],
            "text/plain": [
              "<IPython.core.display.HTML object>"
            ]
          },
          "metadata": {
            "tags": []
          }
        },
        {
          "output_type": "display_data",
          "data": {
            "text/html": [
              ""
            ],
            "text/plain": [
              "<IPython.core.display.HTML object>"
            ]
          },
          "metadata": {
            "tags": []
          }
        },
        {
          "output_type": "display_data",
          "data": {
            "text/html": [
              ""
            ],
            "text/plain": [
              "<IPython.core.display.HTML object>"
            ]
          },
          "metadata": {
            "tags": []
          }
        },
        {
          "output_type": "display_data",
          "data": {
            "text/html": [
              ""
            ],
            "text/plain": [
              "<IPython.core.display.HTML object>"
            ]
          },
          "metadata": {
            "tags": []
          }
        },
        {
          "output_type": "stream",
          "text": [
            "/content/gdrive/My Drive/competitions/AIRA/Images/3.jpg\n",
            "(896, 1906, 3)\n"
          ],
          "name": "stdout"
        },
        {
          "output_type": "display_data",
          "data": {
            "text/html": [
              ""
            ],
            "text/plain": [
              "<IPython.core.display.HTML object>"
            ]
          },
          "metadata": {
            "tags": []
          }
        },
        {
          "output_type": "display_data",
          "data": {
            "text/html": [
              ""
            ],
            "text/plain": [
              "<IPython.core.display.HTML object>"
            ]
          },
          "metadata": {
            "tags": []
          }
        },
        {
          "output_type": "display_data",
          "data": {
            "text/html": [
              ""
            ],
            "text/plain": [
              "<IPython.core.display.HTML object>"
            ]
          },
          "metadata": {
            "tags": []
          }
        },
        {
          "output_type": "display_data",
          "data": {
            "text/html": [
              ""
            ],
            "text/plain": [
              "<IPython.core.display.HTML object>"
            ]
          },
          "metadata": {
            "tags": []
          }
        },
        {
          "output_type": "display_data",
          "data": {
            "text/html": [
              ""
            ],
            "text/plain": [
              "<IPython.core.display.HTML object>"
            ]
          },
          "metadata": {
            "tags": []
          }
        },
        {
          "output_type": "display_data",
          "data": {
            "text/html": [
              ""
            ],
            "text/plain": [
              "<IPython.core.display.HTML object>"
            ]
          },
          "metadata": {
            "tags": []
          }
        },
        {
          "output_type": "display_data",
          "data": {
            "text/html": [
              ""
            ],
            "text/plain": [
              "<IPython.core.display.HTML object>"
            ]
          },
          "metadata": {
            "tags": []
          }
        },
        {
          "output_type": "display_data",
          "data": {
            "text/html": [
              ""
            ],
            "text/plain": [
              "<IPython.core.display.HTML object>"
            ]
          },
          "metadata": {
            "tags": []
          }
        },
        {
          "output_type": "display_data",
          "data": {
            "text/html": [
              ""
            ],
            "text/plain": [
              "<IPython.core.display.HTML object>"
            ]
          },
          "metadata": {
            "tags": []
          }
        },
        {
          "output_type": "display_data",
          "data": {
            "text/html": [
              ""
            ],
            "text/plain": [
              "<IPython.core.display.HTML object>"
            ]
          },
          "metadata": {
            "tags": []
          }
        },
        {
          "output_type": "display_data",
          "data": {
            "text/html": [
              ""
            ],
            "text/plain": [
              "<IPython.core.display.HTML object>"
            ]
          },
          "metadata": {
            "tags": []
          }
        },
        {
          "output_type": "display_data",
          "data": {
            "text/html": [
              ""
            ],
            "text/plain": [
              "<IPython.core.display.HTML object>"
            ]
          },
          "metadata": {
            "tags": []
          }
        },
        {
          "output_type": "display_data",
          "data": {
            "text/html": [
              ""
            ],
            "text/plain": [
              "<IPython.core.display.HTML object>"
            ]
          },
          "metadata": {
            "tags": []
          }
        },
        {
          "output_type": "display_data",
          "data": {
            "text/html": [
              ""
            ],
            "text/plain": [
              "<IPython.core.display.HTML object>"
            ]
          },
          "metadata": {
            "tags": []
          }
        },
        {
          "output_type": "display_data",
          "data": {
            "text/html": [
              ""
            ],
            "text/plain": [
              "<IPython.core.display.HTML object>"
            ]
          },
          "metadata": {
            "tags": []
          }
        },
        {
          "output_type": "display_data",
          "data": {
            "text/html": [
              ""
            ],
            "text/plain": [
              "<IPython.core.display.HTML object>"
            ]
          },
          "metadata": {
            "tags": []
          }
        },
        {
          "output_type": "display_data",
          "data": {
            "text/html": [
              ""
            ],
            "text/plain": [
              "<IPython.core.display.HTML object>"
            ]
          },
          "metadata": {
            "tags": []
          }
        },
        {
          "output_type": "display_data",
          "data": {
            "text/html": [
              ""
            ],
            "text/plain": [
              "<IPython.core.display.HTML object>"
            ]
          },
          "metadata": {
            "tags": []
          }
        },
        {
          "output_type": "display_data",
          "data": {
            "text/html": [
              ""
            ],
            "text/plain": [
              "<IPython.core.display.HTML object>"
            ]
          },
          "metadata": {
            "tags": []
          }
        },
        {
          "output_type": "display_data",
          "data": {
            "text/html": [
              ""
            ],
            "text/plain": [
              "<IPython.core.display.HTML object>"
            ]
          },
          "metadata": {
            "tags": []
          }
        },
        {
          "output_type": "display_data",
          "data": {
            "text/html": [
              ""
            ],
            "text/plain": [
              "<IPython.core.display.HTML object>"
            ]
          },
          "metadata": {
            "tags": []
          }
        },
        {
          "output_type": "display_data",
          "data": {
            "text/html": [
              ""
            ],
            "text/plain": [
              "<IPython.core.display.HTML object>"
            ]
          },
          "metadata": {
            "tags": []
          }
        },
        {
          "output_type": "display_data",
          "data": {
            "text/html": [
              ""
            ],
            "text/plain": [
              "<IPython.core.display.HTML object>"
            ]
          },
          "metadata": {
            "tags": []
          }
        },
        {
          "output_type": "display_data",
          "data": {
            "text/html": [
              ""
            ],
            "text/plain": [
              "<IPython.core.display.HTML object>"
            ]
          },
          "metadata": {
            "tags": []
          }
        },
        {
          "output_type": "display_data",
          "data": {
            "text/html": [
              ""
            ],
            "text/plain": [
              "<IPython.core.display.HTML object>"
            ]
          },
          "metadata": {
            "tags": []
          }
        },
        {
          "output_type": "display_data",
          "data": {
            "text/html": [
              ""
            ],
            "text/plain": [
              "<IPython.core.display.HTML object>"
            ]
          },
          "metadata": {
            "tags": []
          }
        },
        {
          "output_type": "display_data",
          "data": {
            "text/html": [
              ""
            ],
            "text/plain": [
              "<IPython.core.display.HTML object>"
            ]
          },
          "metadata": {
            "tags": []
          }
        },
        {
          "output_type": "display_data",
          "data": {
            "text/html": [
              ""
            ],
            "text/plain": [
              "<IPython.core.display.HTML object>"
            ]
          },
          "metadata": {
            "tags": []
          }
        },
        {
          "output_type": "display_data",
          "data": {
            "text/html": [
              ""
            ],
            "text/plain": [
              "<IPython.core.display.HTML object>"
            ]
          },
          "metadata": {
            "tags": []
          }
        },
        {
          "output_type": "display_data",
          "data": {
            "text/html": [
              ""
            ],
            "text/plain": [
              "<IPython.core.display.HTML object>"
            ]
          },
          "metadata": {
            "tags": []
          }
        },
        {
          "output_type": "display_data",
          "data": {
            "text/html": [
              ""
            ],
            "text/plain": [
              "<IPython.core.display.HTML object>"
            ]
          },
          "metadata": {
            "tags": []
          }
        },
        {
          "output_type": "display_data",
          "data": {
            "text/html": [
              ""
            ],
            "text/plain": [
              "<IPython.core.display.HTML object>"
            ]
          },
          "metadata": {
            "tags": []
          }
        },
        {
          "output_type": "display_data",
          "data": {
            "text/html": [
              ""
            ],
            "text/plain": [
              "<IPython.core.display.HTML object>"
            ]
          },
          "metadata": {
            "tags": []
          }
        },
        {
          "output_type": "display_data",
          "data": {
            "text/html": [
              ""
            ],
            "text/plain": [
              "<IPython.core.display.HTML object>"
            ]
          },
          "metadata": {
            "tags": []
          }
        },
        {
          "output_type": "display_data",
          "data": {
            "text/html": [
              ""
            ],
            "text/plain": [
              "<IPython.core.display.HTML object>"
            ]
          },
          "metadata": {
            "tags": []
          }
        },
        {
          "output_type": "display_data",
          "data": {
            "text/html": [
              ""
            ],
            "text/plain": [
              "<IPython.core.display.HTML object>"
            ]
          },
          "metadata": {
            "tags": []
          }
        },
        {
          "output_type": "stream",
          "text": [
            "/content/gdrive/My Drive/competitions/AIRA/Images/4.jpg\n",
            "(896, 1906, 3)\n"
          ],
          "name": "stdout"
        },
        {
          "output_type": "display_data",
          "data": {
            "text/html": [
              ""
            ],
            "text/plain": [
              "<IPython.core.display.HTML object>"
            ]
          },
          "metadata": {
            "tags": []
          }
        },
        {
          "output_type": "display_data",
          "data": {
            "text/html": [
              ""
            ],
            "text/plain": [
              "<IPython.core.display.HTML object>"
            ]
          },
          "metadata": {
            "tags": []
          }
        },
        {
          "output_type": "display_data",
          "data": {
            "text/html": [
              ""
            ],
            "text/plain": [
              "<IPython.core.display.HTML object>"
            ]
          },
          "metadata": {
            "tags": []
          }
        },
        {
          "output_type": "display_data",
          "data": {
            "text/html": [
              ""
            ],
            "text/plain": [
              "<IPython.core.display.HTML object>"
            ]
          },
          "metadata": {
            "tags": []
          }
        },
        {
          "output_type": "display_data",
          "data": {
            "text/html": [
              ""
            ],
            "text/plain": [
              "<IPython.core.display.HTML object>"
            ]
          },
          "metadata": {
            "tags": []
          }
        },
        {
          "output_type": "display_data",
          "data": {
            "text/html": [
              ""
            ],
            "text/plain": [
              "<IPython.core.display.HTML object>"
            ]
          },
          "metadata": {
            "tags": []
          }
        },
        {
          "output_type": "display_data",
          "data": {
            "text/html": [
              ""
            ],
            "text/plain": [
              "<IPython.core.display.HTML object>"
            ]
          },
          "metadata": {
            "tags": []
          }
        },
        {
          "output_type": "display_data",
          "data": {
            "text/html": [
              ""
            ],
            "text/plain": [
              "<IPython.core.display.HTML object>"
            ]
          },
          "metadata": {
            "tags": []
          }
        },
        {
          "output_type": "display_data",
          "data": {
            "text/html": [
              ""
            ],
            "text/plain": [
              "<IPython.core.display.HTML object>"
            ]
          },
          "metadata": {
            "tags": []
          }
        },
        {
          "output_type": "display_data",
          "data": {
            "text/html": [
              ""
            ],
            "text/plain": [
              "<IPython.core.display.HTML object>"
            ]
          },
          "metadata": {
            "tags": []
          }
        },
        {
          "output_type": "display_data",
          "data": {
            "text/html": [
              ""
            ],
            "text/plain": [
              "<IPython.core.display.HTML object>"
            ]
          },
          "metadata": {
            "tags": []
          }
        },
        {
          "output_type": "display_data",
          "data": {
            "text/html": [
              ""
            ],
            "text/plain": [
              "<IPython.core.display.HTML object>"
            ]
          },
          "metadata": {
            "tags": []
          }
        },
        {
          "output_type": "display_data",
          "data": {
            "text/html": [
              ""
            ],
            "text/plain": [
              "<IPython.core.display.HTML object>"
            ]
          },
          "metadata": {
            "tags": []
          }
        },
        {
          "output_type": "display_data",
          "data": {
            "text/html": [
              ""
            ],
            "text/plain": [
              "<IPython.core.display.HTML object>"
            ]
          },
          "metadata": {
            "tags": []
          }
        },
        {
          "output_type": "display_data",
          "data": {
            "text/html": [
              ""
            ],
            "text/plain": [
              "<IPython.core.display.HTML object>"
            ]
          },
          "metadata": {
            "tags": []
          }
        },
        {
          "output_type": "display_data",
          "data": {
            "text/html": [
              ""
            ],
            "text/plain": [
              "<IPython.core.display.HTML object>"
            ]
          },
          "metadata": {
            "tags": []
          }
        },
        {
          "output_type": "display_data",
          "data": {
            "text/html": [
              ""
            ],
            "text/plain": [
              "<IPython.core.display.HTML object>"
            ]
          },
          "metadata": {
            "tags": []
          }
        },
        {
          "output_type": "display_data",
          "data": {
            "text/html": [
              ""
            ],
            "text/plain": [
              "<IPython.core.display.HTML object>"
            ]
          },
          "metadata": {
            "tags": []
          }
        },
        {
          "output_type": "display_data",
          "data": {
            "text/html": [
              ""
            ],
            "text/plain": [
              "<IPython.core.display.HTML object>"
            ]
          },
          "metadata": {
            "tags": []
          }
        },
        {
          "output_type": "display_data",
          "data": {
            "text/html": [
              ""
            ],
            "text/plain": [
              "<IPython.core.display.HTML object>"
            ]
          },
          "metadata": {
            "tags": []
          }
        },
        {
          "output_type": "display_data",
          "data": {
            "text/html": [
              ""
            ],
            "text/plain": [
              "<IPython.core.display.HTML object>"
            ]
          },
          "metadata": {
            "tags": []
          }
        },
        {
          "output_type": "display_data",
          "data": {
            "text/html": [
              ""
            ],
            "text/plain": [
              "<IPython.core.display.HTML object>"
            ]
          },
          "metadata": {
            "tags": []
          }
        },
        {
          "output_type": "display_data",
          "data": {
            "text/html": [
              ""
            ],
            "text/plain": [
              "<IPython.core.display.HTML object>"
            ]
          },
          "metadata": {
            "tags": []
          }
        },
        {
          "output_type": "display_data",
          "data": {
            "text/html": [
              ""
            ],
            "text/plain": [
              "<IPython.core.display.HTML object>"
            ]
          },
          "metadata": {
            "tags": []
          }
        },
        {
          "output_type": "display_data",
          "data": {
            "text/html": [
              ""
            ],
            "text/plain": [
              "<IPython.core.display.HTML object>"
            ]
          },
          "metadata": {
            "tags": []
          }
        },
        {
          "output_type": "display_data",
          "data": {
            "text/html": [
              ""
            ],
            "text/plain": [
              "<IPython.core.display.HTML object>"
            ]
          },
          "metadata": {
            "tags": []
          }
        },
        {
          "output_type": "display_data",
          "data": {
            "text/html": [
              ""
            ],
            "text/plain": [
              "<IPython.core.display.HTML object>"
            ]
          },
          "metadata": {
            "tags": []
          }
        },
        {
          "output_type": "display_data",
          "data": {
            "text/html": [
              ""
            ],
            "text/plain": [
              "<IPython.core.display.HTML object>"
            ]
          },
          "metadata": {
            "tags": []
          }
        },
        {
          "output_type": "display_data",
          "data": {
            "text/html": [
              ""
            ],
            "text/plain": [
              "<IPython.core.display.HTML object>"
            ]
          },
          "metadata": {
            "tags": []
          }
        },
        {
          "output_type": "display_data",
          "data": {
            "text/html": [
              ""
            ],
            "text/plain": [
              "<IPython.core.display.HTML object>"
            ]
          },
          "metadata": {
            "tags": []
          }
        },
        {
          "output_type": "display_data",
          "data": {
            "text/html": [
              ""
            ],
            "text/plain": [
              "<IPython.core.display.HTML object>"
            ]
          },
          "metadata": {
            "tags": []
          }
        },
        {
          "output_type": "display_data",
          "data": {
            "text/html": [
              ""
            ],
            "text/plain": [
              "<IPython.core.display.HTML object>"
            ]
          },
          "metadata": {
            "tags": []
          }
        },
        {
          "output_type": "display_data",
          "data": {
            "text/html": [
              ""
            ],
            "text/plain": [
              "<IPython.core.display.HTML object>"
            ]
          },
          "metadata": {
            "tags": []
          }
        },
        {
          "output_type": "display_data",
          "data": {
            "text/html": [
              ""
            ],
            "text/plain": [
              "<IPython.core.display.HTML object>"
            ]
          },
          "metadata": {
            "tags": []
          }
        },
        {
          "output_type": "display_data",
          "data": {
            "text/html": [
              ""
            ],
            "text/plain": [
              "<IPython.core.display.HTML object>"
            ]
          },
          "metadata": {
            "tags": []
          }
        },
        {
          "output_type": "display_data",
          "data": {
            "text/html": [
              ""
            ],
            "text/plain": [
              "<IPython.core.display.HTML object>"
            ]
          },
          "metadata": {
            "tags": []
          }
        },
        {
          "output_type": "stream",
          "text": [
            "/content/gdrive/My Drive/competitions/AIRA/Images/5.jpg\n",
            "(896, 1906, 3)\n"
          ],
          "name": "stdout"
        },
        {
          "output_type": "display_data",
          "data": {
            "text/html": [
              ""
            ],
            "text/plain": [
              "<IPython.core.display.HTML object>"
            ]
          },
          "metadata": {
            "tags": []
          }
        },
        {
          "output_type": "display_data",
          "data": {
            "text/html": [
              ""
            ],
            "text/plain": [
              "<IPython.core.display.HTML object>"
            ]
          },
          "metadata": {
            "tags": []
          }
        },
        {
          "output_type": "display_data",
          "data": {
            "text/html": [
              ""
            ],
            "text/plain": [
              "<IPython.core.display.HTML object>"
            ]
          },
          "metadata": {
            "tags": []
          }
        },
        {
          "output_type": "display_data",
          "data": {
            "text/html": [
              ""
            ],
            "text/plain": [
              "<IPython.core.display.HTML object>"
            ]
          },
          "metadata": {
            "tags": []
          }
        },
        {
          "output_type": "display_data",
          "data": {
            "text/html": [
              ""
            ],
            "text/plain": [
              "<IPython.core.display.HTML object>"
            ]
          },
          "metadata": {
            "tags": []
          }
        },
        {
          "output_type": "display_data",
          "data": {
            "text/html": [
              ""
            ],
            "text/plain": [
              "<IPython.core.display.HTML object>"
            ]
          },
          "metadata": {
            "tags": []
          }
        },
        {
          "output_type": "display_data",
          "data": {
            "text/html": [
              ""
            ],
            "text/plain": [
              "<IPython.core.display.HTML object>"
            ]
          },
          "metadata": {
            "tags": []
          }
        },
        {
          "output_type": "display_data",
          "data": {
            "text/html": [
              ""
            ],
            "text/plain": [
              "<IPython.core.display.HTML object>"
            ]
          },
          "metadata": {
            "tags": []
          }
        },
        {
          "output_type": "display_data",
          "data": {
            "text/html": [
              ""
            ],
            "text/plain": [
              "<IPython.core.display.HTML object>"
            ]
          },
          "metadata": {
            "tags": []
          }
        },
        {
          "output_type": "display_data",
          "data": {
            "text/html": [
              ""
            ],
            "text/plain": [
              "<IPython.core.display.HTML object>"
            ]
          },
          "metadata": {
            "tags": []
          }
        },
        {
          "output_type": "display_data",
          "data": {
            "text/html": [
              ""
            ],
            "text/plain": [
              "<IPython.core.display.HTML object>"
            ]
          },
          "metadata": {
            "tags": []
          }
        },
        {
          "output_type": "display_data",
          "data": {
            "text/html": [
              ""
            ],
            "text/plain": [
              "<IPython.core.display.HTML object>"
            ]
          },
          "metadata": {
            "tags": []
          }
        },
        {
          "output_type": "display_data",
          "data": {
            "text/html": [
              ""
            ],
            "text/plain": [
              "<IPython.core.display.HTML object>"
            ]
          },
          "metadata": {
            "tags": []
          }
        },
        {
          "output_type": "display_data",
          "data": {
            "text/html": [
              ""
            ],
            "text/plain": [
              "<IPython.core.display.HTML object>"
            ]
          },
          "metadata": {
            "tags": []
          }
        },
        {
          "output_type": "display_data",
          "data": {
            "text/html": [
              ""
            ],
            "text/plain": [
              "<IPython.core.display.HTML object>"
            ]
          },
          "metadata": {
            "tags": []
          }
        },
        {
          "output_type": "display_data",
          "data": {
            "text/html": [
              ""
            ],
            "text/plain": [
              "<IPython.core.display.HTML object>"
            ]
          },
          "metadata": {
            "tags": []
          }
        },
        {
          "output_type": "display_data",
          "data": {
            "text/html": [
              ""
            ],
            "text/plain": [
              "<IPython.core.display.HTML object>"
            ]
          },
          "metadata": {
            "tags": []
          }
        },
        {
          "output_type": "display_data",
          "data": {
            "text/html": [
              ""
            ],
            "text/plain": [
              "<IPython.core.display.HTML object>"
            ]
          },
          "metadata": {
            "tags": []
          }
        },
        {
          "output_type": "display_data",
          "data": {
            "text/html": [
              ""
            ],
            "text/plain": [
              "<IPython.core.display.HTML object>"
            ]
          },
          "metadata": {
            "tags": []
          }
        },
        {
          "output_type": "display_data",
          "data": {
            "text/html": [
              ""
            ],
            "text/plain": [
              "<IPython.core.display.HTML object>"
            ]
          },
          "metadata": {
            "tags": []
          }
        },
        {
          "output_type": "display_data",
          "data": {
            "text/html": [
              ""
            ],
            "text/plain": [
              "<IPython.core.display.HTML object>"
            ]
          },
          "metadata": {
            "tags": []
          }
        },
        {
          "output_type": "display_data",
          "data": {
            "text/html": [
              ""
            ],
            "text/plain": [
              "<IPython.core.display.HTML object>"
            ]
          },
          "metadata": {
            "tags": []
          }
        },
        {
          "output_type": "display_data",
          "data": {
            "text/html": [
              ""
            ],
            "text/plain": [
              "<IPython.core.display.HTML object>"
            ]
          },
          "metadata": {
            "tags": []
          }
        },
        {
          "output_type": "display_data",
          "data": {
            "text/html": [
              ""
            ],
            "text/plain": [
              "<IPython.core.display.HTML object>"
            ]
          },
          "metadata": {
            "tags": []
          }
        },
        {
          "output_type": "display_data",
          "data": {
            "text/html": [
              ""
            ],
            "text/plain": [
              "<IPython.core.display.HTML object>"
            ]
          },
          "metadata": {
            "tags": []
          }
        },
        {
          "output_type": "display_data",
          "data": {
            "text/html": [
              ""
            ],
            "text/plain": [
              "<IPython.core.display.HTML object>"
            ]
          },
          "metadata": {
            "tags": []
          }
        },
        {
          "output_type": "display_data",
          "data": {
            "text/html": [
              ""
            ],
            "text/plain": [
              "<IPython.core.display.HTML object>"
            ]
          },
          "metadata": {
            "tags": []
          }
        },
        {
          "output_type": "display_data",
          "data": {
            "text/html": [
              ""
            ],
            "text/plain": [
              "<IPython.core.display.HTML object>"
            ]
          },
          "metadata": {
            "tags": []
          }
        },
        {
          "output_type": "display_data",
          "data": {
            "text/html": [
              ""
            ],
            "text/plain": [
              "<IPython.core.display.HTML object>"
            ]
          },
          "metadata": {
            "tags": []
          }
        },
        {
          "output_type": "display_data",
          "data": {
            "text/html": [
              ""
            ],
            "text/plain": [
              "<IPython.core.display.HTML object>"
            ]
          },
          "metadata": {
            "tags": []
          }
        },
        {
          "output_type": "display_data",
          "data": {
            "text/html": [
              ""
            ],
            "text/plain": [
              "<IPython.core.display.HTML object>"
            ]
          },
          "metadata": {
            "tags": []
          }
        },
        {
          "output_type": "display_data",
          "data": {
            "text/html": [
              ""
            ],
            "text/plain": [
              "<IPython.core.display.HTML object>"
            ]
          },
          "metadata": {
            "tags": []
          }
        },
        {
          "output_type": "display_data",
          "data": {
            "text/html": [
              ""
            ],
            "text/plain": [
              "<IPython.core.display.HTML object>"
            ]
          },
          "metadata": {
            "tags": []
          }
        },
        {
          "output_type": "display_data",
          "data": {
            "text/html": [
              ""
            ],
            "text/plain": [
              "<IPython.core.display.HTML object>"
            ]
          },
          "metadata": {
            "tags": []
          }
        },
        {
          "output_type": "display_data",
          "data": {
            "text/html": [
              ""
            ],
            "text/plain": [
              "<IPython.core.display.HTML object>"
            ]
          },
          "metadata": {
            "tags": []
          }
        },
        {
          "output_type": "display_data",
          "data": {
            "text/html": [
              ""
            ],
            "text/plain": [
              "<IPython.core.display.HTML object>"
            ]
          },
          "metadata": {
            "tags": []
          }
        },
        {
          "output_type": "stream",
          "text": [
            "/content/gdrive/My Drive/competitions/AIRA/Images/6.jpg\n",
            "(896, 1906, 3)\n"
          ],
          "name": "stdout"
        },
        {
          "output_type": "display_data",
          "data": {
            "text/html": [
              ""
            ],
            "text/plain": [
              "<IPython.core.display.HTML object>"
            ]
          },
          "metadata": {
            "tags": []
          }
        },
        {
          "output_type": "display_data",
          "data": {
            "text/html": [
              ""
            ],
            "text/plain": [
              "<IPython.core.display.HTML object>"
            ]
          },
          "metadata": {
            "tags": []
          }
        },
        {
          "output_type": "display_data",
          "data": {
            "text/html": [
              ""
            ],
            "text/plain": [
              "<IPython.core.display.HTML object>"
            ]
          },
          "metadata": {
            "tags": []
          }
        },
        {
          "output_type": "display_data",
          "data": {
            "text/html": [
              ""
            ],
            "text/plain": [
              "<IPython.core.display.HTML object>"
            ]
          },
          "metadata": {
            "tags": []
          }
        },
        {
          "output_type": "display_data",
          "data": {
            "text/html": [
              ""
            ],
            "text/plain": [
              "<IPython.core.display.HTML object>"
            ]
          },
          "metadata": {
            "tags": []
          }
        },
        {
          "output_type": "display_data",
          "data": {
            "text/html": [
              ""
            ],
            "text/plain": [
              "<IPython.core.display.HTML object>"
            ]
          },
          "metadata": {
            "tags": []
          }
        },
        {
          "output_type": "display_data",
          "data": {
            "text/html": [
              ""
            ],
            "text/plain": [
              "<IPython.core.display.HTML object>"
            ]
          },
          "metadata": {
            "tags": []
          }
        },
        {
          "output_type": "display_data",
          "data": {
            "text/html": [
              ""
            ],
            "text/plain": [
              "<IPython.core.display.HTML object>"
            ]
          },
          "metadata": {
            "tags": []
          }
        },
        {
          "output_type": "display_data",
          "data": {
            "text/html": [
              ""
            ],
            "text/plain": [
              "<IPython.core.display.HTML object>"
            ]
          },
          "metadata": {
            "tags": []
          }
        },
        {
          "output_type": "display_data",
          "data": {
            "text/html": [
              ""
            ],
            "text/plain": [
              "<IPython.core.display.HTML object>"
            ]
          },
          "metadata": {
            "tags": []
          }
        },
        {
          "output_type": "display_data",
          "data": {
            "text/html": [
              ""
            ],
            "text/plain": [
              "<IPython.core.display.HTML object>"
            ]
          },
          "metadata": {
            "tags": []
          }
        },
        {
          "output_type": "display_data",
          "data": {
            "text/html": [
              ""
            ],
            "text/plain": [
              "<IPython.core.display.HTML object>"
            ]
          },
          "metadata": {
            "tags": []
          }
        },
        {
          "output_type": "display_data",
          "data": {
            "text/html": [
              ""
            ],
            "text/plain": [
              "<IPython.core.display.HTML object>"
            ]
          },
          "metadata": {
            "tags": []
          }
        },
        {
          "output_type": "display_data",
          "data": {
            "text/html": [
              ""
            ],
            "text/plain": [
              "<IPython.core.display.HTML object>"
            ]
          },
          "metadata": {
            "tags": []
          }
        },
        {
          "output_type": "display_data",
          "data": {
            "text/html": [
              ""
            ],
            "text/plain": [
              "<IPython.core.display.HTML object>"
            ]
          },
          "metadata": {
            "tags": []
          }
        },
        {
          "output_type": "display_data",
          "data": {
            "text/html": [
              ""
            ],
            "text/plain": [
              "<IPython.core.display.HTML object>"
            ]
          },
          "metadata": {
            "tags": []
          }
        },
        {
          "output_type": "display_data",
          "data": {
            "text/html": [
              ""
            ],
            "text/plain": [
              "<IPython.core.display.HTML object>"
            ]
          },
          "metadata": {
            "tags": []
          }
        },
        {
          "output_type": "display_data",
          "data": {
            "text/html": [
              ""
            ],
            "text/plain": [
              "<IPython.core.display.HTML object>"
            ]
          },
          "metadata": {
            "tags": []
          }
        },
        {
          "output_type": "display_data",
          "data": {
            "text/html": [
              ""
            ],
            "text/plain": [
              "<IPython.core.display.HTML object>"
            ]
          },
          "metadata": {
            "tags": []
          }
        },
        {
          "output_type": "display_data",
          "data": {
            "text/html": [
              ""
            ],
            "text/plain": [
              "<IPython.core.display.HTML object>"
            ]
          },
          "metadata": {
            "tags": []
          }
        },
        {
          "output_type": "display_data",
          "data": {
            "text/html": [
              ""
            ],
            "text/plain": [
              "<IPython.core.display.HTML object>"
            ]
          },
          "metadata": {
            "tags": []
          }
        },
        {
          "output_type": "display_data",
          "data": {
            "text/html": [
              ""
            ],
            "text/plain": [
              "<IPython.core.display.HTML object>"
            ]
          },
          "metadata": {
            "tags": []
          }
        },
        {
          "output_type": "display_data",
          "data": {
            "text/html": [
              ""
            ],
            "text/plain": [
              "<IPython.core.display.HTML object>"
            ]
          },
          "metadata": {
            "tags": []
          }
        },
        {
          "output_type": "display_data",
          "data": {
            "text/html": [
              ""
            ],
            "text/plain": [
              "<IPython.core.display.HTML object>"
            ]
          },
          "metadata": {
            "tags": []
          }
        },
        {
          "output_type": "display_data",
          "data": {
            "text/html": [
              ""
            ],
            "text/plain": [
              "<IPython.core.display.HTML object>"
            ]
          },
          "metadata": {
            "tags": []
          }
        },
        {
          "output_type": "display_data",
          "data": {
            "text/html": [
              ""
            ],
            "text/plain": [
              "<IPython.core.display.HTML object>"
            ]
          },
          "metadata": {
            "tags": []
          }
        },
        {
          "output_type": "display_data",
          "data": {
            "text/html": [
              ""
            ],
            "text/plain": [
              "<IPython.core.display.HTML object>"
            ]
          },
          "metadata": {
            "tags": []
          }
        },
        {
          "output_type": "display_data",
          "data": {
            "text/html": [
              ""
            ],
            "text/plain": [
              "<IPython.core.display.HTML object>"
            ]
          },
          "metadata": {
            "tags": []
          }
        },
        {
          "output_type": "display_data",
          "data": {
            "text/html": [
              ""
            ],
            "text/plain": [
              "<IPython.core.display.HTML object>"
            ]
          },
          "metadata": {
            "tags": []
          }
        },
        {
          "output_type": "display_data",
          "data": {
            "text/html": [
              ""
            ],
            "text/plain": [
              "<IPython.core.display.HTML object>"
            ]
          },
          "metadata": {
            "tags": []
          }
        },
        {
          "output_type": "display_data",
          "data": {
            "text/html": [
              ""
            ],
            "text/plain": [
              "<IPython.core.display.HTML object>"
            ]
          },
          "metadata": {
            "tags": []
          }
        },
        {
          "output_type": "display_data",
          "data": {
            "text/html": [
              ""
            ],
            "text/plain": [
              "<IPython.core.display.HTML object>"
            ]
          },
          "metadata": {
            "tags": []
          }
        },
        {
          "output_type": "display_data",
          "data": {
            "text/html": [
              ""
            ],
            "text/plain": [
              "<IPython.core.display.HTML object>"
            ]
          },
          "metadata": {
            "tags": []
          }
        },
        {
          "output_type": "display_data",
          "data": {
            "text/html": [
              ""
            ],
            "text/plain": [
              "<IPython.core.display.HTML object>"
            ]
          },
          "metadata": {
            "tags": []
          }
        },
        {
          "output_type": "display_data",
          "data": {
            "text/html": [
              ""
            ],
            "text/plain": [
              "<IPython.core.display.HTML object>"
            ]
          },
          "metadata": {
            "tags": []
          }
        },
        {
          "output_type": "display_data",
          "data": {
            "text/html": [
              ""
            ],
            "text/plain": [
              "<IPython.core.display.HTML object>"
            ]
          },
          "metadata": {
            "tags": []
          }
        }
      ]
    },
    {
      "cell_type": "markdown",
      "metadata": {
        "id": "XsCzkoIUV2se"
      },
      "source": [
        "Loading 1.jpg image's original and predicted mask for visual comparison"
      ]
    },
    {
      "cell_type": "code",
      "metadata": {
        "id": "0gWR9nYoeLn0",
        "outputId": "48a6faa5-31a7-419e-d1ad-a05c4c18673f",
        "colab": {
          "base_uri": "https://localhost:8080/",
          "height": 226
        }
      },
      "source": [
        "plt.imshow(cv2.cvtColor(cv2.imread('/content/gdrive/My Drive/competitions/AIRA/Predictions/PredMask_1.png'), cv2.COLOR_BGR2RGB))"
      ],
      "execution_count": null,
      "outputs": [
        {
          "output_type": "execute_result",
          "data": {
            "text/plain": [
              "<matplotlib.image.AxesImage at 0x7f651cc7c400>"
            ]
          },
          "metadata": {
            "tags": []
          },
          "execution_count": 25
        },
        {
          "output_type": "display_data",
          "data": {
            "image/png": "[encoded data removed]",
            "text/plain": [
              "<Figure size 432x288 with 1 Axes>"
            ]
          },
          "metadata": {
            "tags": [],
            "needs_background": "light"
          }
        }
      ]
    },
    {
      "cell_type": "code",
      "metadata": {
        "id": "Q31-L9cJelHz",
        "outputId": "a25dfac8-15e4-4941-ee16-41ad2180aaa2",
        "colab": {
          "base_uri": "https://localhost:8080/",
          "height": 226
        }
      },
      "source": [
        "plt.imshow(cv2.cvtColor(cv2.imread('/content/gdrive/My Drive/competitions/AIRA/Images/1_label.png'), cv2.COLOR_BGR2RGB))"
      ],
      "execution_count": null,
      "outputs": [
        {
          "output_type": "execute_result",
          "data": {
            "text/plain": [
              "<matplotlib.image.AxesImage at 0x7f651cc2ce48>"
            ]
          },
          "metadata": {
            "tags": []
          },
          "execution_count": 26
        },
        {
          "output_type": "display_data",
          "data": {
            "image/png": "[encoded data removed]",
            "text/plain": [
              "<Figure size 432x288 with 1 Axes>"
            ]
          },
          "metadata": {
            "tags": [],
            "needs_background": "light"
          }
        }
      ]
    },
    {
      "cell_type": "markdown",
      "metadata": {
        "id": "i7b21ZWc7TCI"
      },
      "source": [
        "# Performance"
      ]
    },
    {
      "cell_type": "code",
      "metadata": {
        "id": "aHzxTuya7IMw",
        "outputId": "a75f7d8a-b8f4-4422-8eda-be9f147dce70",
        "colab": {
          "base_uri": "https://localhost:8080/",
          "height": 386
        }
      },
      "source": [
        "import numpy as np\n",
        "import pandas as pd\n",
        "import cv2\n",
        "import matplotlib.pyplot as plt\n",
        "\n",
        "Overall_Accuracy = 0\n",
        "Overall_Dice = 0\n",
        "\n",
        "for k in range(6):\n",
        "  \n",
        "  Annotation_1 = cv2.imread('/content/gdrive/My Drive/competitions/AIRA/Images/'+str(k+1)+'_label.png')\n",
        "  Annotation_1 = Annotation_1[:,:,0]\n",
        "  Annotation_1[Annotation_1 == 28] = 0\n",
        "  Annotation_1[Annotation_1 == 39] = 1\n",
        "  Annotation_1[Annotation_1 == 110] = 2\n",
        "  Annotation_1[Annotation_1 == 163] = 3\n",
        "\n",
        "  Annotation_2 = cv2.imread('/content/gdrive/My Drive/competitions/AIRA/Predictions/PredMask_'+str(k+1)+'.png')\n",
        "  Annotation_2 = Annotation_2[:,:,0]\n",
        "  Annotation_2[Annotation_2 == 28] = 0\n",
        "  Annotation_2[Annotation_2 == 39] = 1\n",
        "  Annotation_2[Annotation_2 == 110] = 2\n",
        "  Annotation_2[Annotation_2 == 163] = 3\n",
        "\n",
        "  Dice=0\n",
        "  for i in range(4):\n",
        "    Intersection = (((Annotation_1==i)*1) * ((Annotation_2==i)*1)).sum()\n",
        "    Union = (((Annotation_1==i)*1) + ((Annotation_2==i)*1)).sum()\n",
        "    Dice += 2*Intersection/Union\n",
        "\n",
        "  Overall_Accuracy += (Annotation_1 == Annotation_2).sum()/(896*1906)\n",
        "  Overall_Dice += Dice/4\n",
        "\n",
        "  print(\"\\nAverage Dice Coefficient for {}.jpg is: \\t{:2F}\".format(k+1, Dice/4))\n",
        "  print(\"Pixel Accuracy for {}.jpg is: \\t\\t{:2F}\".format(k+1, (Annotation_1 == Annotation_2).sum()/(896*1906)))\n",
        "\n",
        "print(\"\\n\\nAverage Dice Coefficient for all images is: \\t{:2F}\".format(Overall_Dice/(k+1)))\n",
        "print(\"Pixel Accuracy for all images is: \\t\\t{:2F}\".format(Overall_Accuracy/(k+1)))"
      ],
      "execution_count": null,
      "outputs": [
        {
          "output_type": "stream",
          "text": [
            "\n",
            "Average Dice Coefficient for 1.jpg is: \t0.980364\n",
            "Pixel Accuracy for 1.jpg is: \t\t0.984634\n",
            "\n",
            "Average Dice Coefficient for 2.jpg is: \t0.985373\n",
            "Pixel Accuracy for 2.jpg is: \t\t0.986721\n",
            "\n",
            "Average Dice Coefficient for 3.jpg is: \t0.985202\n",
            "Pixel Accuracy for 3.jpg is: \t\t0.985628\n",
            "\n",
            "Average Dice Coefficient for 4.jpg is: \t0.988096\n",
            "Pixel Accuracy for 4.jpg is: \t\t0.991029\n",
            "\n",
            "Average Dice Coefficient for 5.jpg is: \t0.991384\n",
            "Pixel Accuracy for 5.jpg is: \t\t0.991784\n",
            "\n",
            "Average Dice Coefficient for 6.jpg is: \t0.987874\n",
            "Pixel Accuracy for 6.jpg is: \t\t0.988852\n",
            "\n",
            "\n",
            "Average Dice Coefficient for all images is: \t0.986382\n",
            "Pixel Accuracy for all images is: \t\t0.988108\n"
          ],
          "name": "stdout"
        }
      ]
    },
    {
      "cell_type": "markdown",
      "metadata": {
        "id": "6mLLHeTJ_7Ii"
      },
      "source": [
        "**Training Performance**\n",
        "\n",
        "* Pixel Accuracy - 98.88%\n",
        "* Dice Coefficient - 98.76%\n",
        "\n",
        "**Validation Performance**\n",
        "\n",
        "* Pixel Accuracy - 98.46%\n",
        "* Dice Coefficient - 98.04%\n",
        "\n",
        "Note - \n",
        "\n",
        "*Training Data - 2.jpg, 3.jpg, 4.jpg, 5.jpg, 6.jpg*\n",
        "\n",
        "*Validation Data - 1.jpg*\n"
      ]
    },
    {
      "cell_type": "markdown",
      "metadata": {
        "id": "7FnzWpJ0WGG6"
      },
      "source": [
        "## Further exploration - \n",
        "\n",
        "1. Larger models for encoder - ResNet50, EfficientNets\n",
        "2. Hypercolumns\n",
        "3. Ensembling\n",
        "4. TTA\n",
        "5. Loss Function - Dice Loss/IoU Loss"
      ]
    }
  ]
}